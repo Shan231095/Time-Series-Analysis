{
 "cells": [
  {
   "cell_type": "code",
   "execution_count": 4,
   "id": "48173d86",
   "metadata": {},
   "outputs": [],
   "source": [
    "import pandas as pd"
   ]
  },
  {
   "cell_type": "code",
   "execution_count": null,
   "id": "d120ac03",
   "metadata": {},
   "outputs": [],
   "source": []
  },
  {
   "cell_type": "code",
   "execution_count": 3,
   "id": "fc3f9a19",
   "metadata": {},
   "outputs": [
    {
     "name": "stderr",
     "output_type": "stream",
     "text": [
      "[*********************100%***********************]  1 of 1 completed\n"
     ]
    }
   ],
   "source": [
    "from nsepy import get_history as gh\n",
    "import datetime as dt\n",
    "import yfinance as yf\n",
    "stock_symbol = \"RELIANCE.NS\"  #NSE stocks usually end with .NS\n",
    "#download stock data\n",
    "stk_data = yf.download(stock_symbol,start=\"2023-01-01\",end=\"2023-07-01\")"
   ]
  },
  {
   "cell_type": "code",
   "execution_count": 3,
   "id": "ffa2740a",
   "metadata": {},
   "outputs": [],
   "source": []
  },
  {
   "cell_type": "code",
   "execution_count": 5,
   "id": "f5e21aa3",
   "metadata": {},
   "outputs": [],
   "source": [
    "stk_data=stk_data[[\"Open\",\"High\",\"Low\",\"Close\"]]"
   ]
  },
  {
   "cell_type": "code",
   "execution_count": 7,
   "id": "c7225240",
   "metadata": {},
   "outputs": [],
   "source": [
    "#column=\"Close\""
   ]
  },
  {
   "cell_type": "code",
   "execution_count": 6,
   "id": "7ad5ebcf",
   "metadata": {},
   "outputs": [
    {
     "name": "stdout",
     "output_type": "stream",
     "text": [
      "Len: (122, 4)\n"
     ]
    }
   ],
   "source": [
    "from sklearn.preprocessing import MinMaxScaler\n",
    "Ms = MinMaxScaler()\n",
    "data1= Ms.fit_transform(stk_data)\n",
    "print(\"Len:\",data1.shape)"
   ]
  },
  {
   "cell_type": "code",
   "execution_count": 7,
   "id": "b2b41235",
   "metadata": {},
   "outputs": [],
   "source": [
    "data1=pd.DataFrame(data1,columns=[\"Open\",\"High\",\"Low\",\"Close\"])"
   ]
  },
  {
   "cell_type": "code",
   "execution_count": 8,
   "id": "79c8b1d5",
   "metadata": {},
   "outputs": [
    {
     "name": "stdout",
     "output_type": "stream",
     "text": [
      "98\n",
      "X_train length: (98, 4)\n",
      "X_test length: (24, 4)\n",
      "y_train length: (98, 4)\n",
      "y_test length: (24, 4)\n"
     ]
    }
   ],
   "source": [
    "training_size = round(len(data1 ) * 0.80)\n",
    "print(training_size)\n",
    "X_train=data1[:training_size]\n",
    "X_test=data1[training_size:]\n",
    "print(\"X_train length:\",X_train.shape)\n",
    "print(\"X_test length:\",X_test.shape)\n",
    "y_train=data1[:training_size]\n",
    "y_test=data1[training_size:]\n",
    "print(\"y_train length:\",y_train.shape)\n",
    "print(\"y_test length:\",y_test.shape)"
   ]
  },
  {
   "cell_type": "code",
   "execution_count": 9,
   "id": "466d94f9",
   "metadata": {},
   "outputs": [],
   "source": [
    "import warnings\n",
    "warnings.filterwarnings(\"ignore\")"
   ]
  },
  {
   "cell_type": "code",
   "execution_count": 17,
   "id": "4df2eaa9",
   "metadata": {},
   "outputs": [],
   "source": [
    "performance={\"Model\":[],\"RMSE\":[],\"MaPe\":[],\"Lag\":[],\"Test\":[]}"
   ]
  },
  {
   "cell_type": "code",
   "execution_count": 16,
   "id": "3b6caee0",
   "metadata": {},
   "outputs": [],
   "source": [
    "def combination(dataset,listt):\n",
    "    print(listt)\n",
    "    datasetTwo=dataset[listt]  #selecting only the columns in listt\n",
    "    \n",
    "    #train test split\n",
    "    #Last 28 observations are used as test data. The rest is training data\n",
    "    test_obs = 28\n",
    "    train =datasetTwo[:-test_obs]\n",
    "    test = datasetTwo[-test_obs:]\n",
    "\n",
    "    #model selection loop\n",
    "    #Fit the VAR model with lags from 1 to 10. Print AIC and BIC for each to evaluate which lag performs best\n",
    "    from statsmodels.tsa.api import VAR\n",
    "    for i in [1,2,3,4,5,6,7,8,9,10]:\n",
    "        model = VAR(train)\n",
    "        results = model.fit(i)\n",
    "        print('Order =', i)\n",
    "        print('AIC: ', results.aic)\n",
    "        print('BIC: ', results.bic)\n",
    "        print()\n",
    "\n",
    "    #Automatically select the best lag using Akaike Information Criterion (AIC)\n",
    "    x = model.select_order(maxlags=12)\n",
    "    order=x.selected_orders[\"aic\"]\n",
    "\n",
    "    #Fit the final model\n",
    "    #Fit VAR using the best lag. Get the last order rows of training data for forecasting\n",
    "    result = model.fit(order)\n",
    "    #result.summary()\n",
    "    lagged_Values = train.values[-order:]\n",
    "\n",
    "    #forecasting\n",
    "    #Forecast 28 future steps.Convert the result into a DataFrame\n",
    "    pred = result.forecast(y=lagged_Values,steps=28) \n",
    "    preds=pd.DataFrame(pred,columns=listt)\n",
    "\n",
    "    #Save the forecast to a CSV file for reference\n",
    "    preds.to_csv(\"varforecasted_{}.csv\".format(test_obs))\n",
    "\n",
    "    #evaluation: ompute RMSE and MAPE between predicted and actual values\n",
    "    from sklearn.metrics import mean_squared_error\n",
    "    rmse= round(mean_squared_error(test,pred))\n",
    "    from sklearn.metrics import mean_absolute_percentage_error\n",
    "    mape=mean_absolute_percentage_error(test,pred)\n",
    "\n",
    "    #Append performance metrics into a shared performance dictionary (assumed to be global).\n",
    "    performance[\"Model\"].append(listt)\n",
    "    performance[\"RMSE\"].append(rmse)\n",
    "    performance[\"MaPe\"].append(mape)\n",
    "    performance[\"Lag\"].append(order)\n",
    "    performance[\"Test\"].append(test_obs)\n",
    "    \n",
    "    perf=pd.DataFrame(performance)\n",
    "    return perf,result,pred"
   ]
  },
  {
   "cell_type": "code",
   "execution_count": 11,
   "id": "1ca74337",
   "metadata": {},
   "outputs": [],
   "source": [
    "listt=[\"Close\",\"High\",\"Open\",\"Low\"]\n",
    "#listt=[\"AQI_calculated\",\"PM10\",\"PM2.5\",\"NOx\",\"NO2\",\"NO\",\"NH3\",\"SO2\",\"CO\",'year']\n"
   ]
  },
  {
   "cell_type": "code",
   "execution_count": 18,
   "id": "3294031a",
   "metadata": {},
   "outputs": [
    {
     "name": "stdout",
     "output_type": "stream",
     "text": [
      "['Close', 'High', 'Open', 'Low']\n",
      "Order = 1\n",
      "AIC:  -27.476716924903812\n",
      "BIC:  -26.932071872612788\n",
      "\n",
      "Order = 2\n",
      "AIC:  -27.416568270570608\n",
      "BIC:  -26.429781436073156\n",
      "\n",
      "Order = 3\n",
      "AIC:  -27.354582772370158\n",
      "BIC:  -25.919805911503385\n",
      "\n",
      "Order = 4\n",
      "AIC:  -27.130750543031553\n",
      "BIC:  -25.24200545878202\n",
      "\n",
      "Order = 5\n",
      "AIC:  -26.93648253233639\n",
      "BIC:  -24.587657194611673\n",
      "\n",
      "Order = 6\n",
      "AIC:  -26.92323335557875\n",
      "BIC:  -24.108077884580787\n",
      "\n",
      "Order = 7\n",
      "AIC:  -27.02282299745829\n",
      "BIC:  -23.734945505918848\n",
      "\n",
      "Order = 8\n",
      "AIC:  -26.93410352963207\n",
      "BIC:  -23.166965819103428\n",
      "\n",
      "Order = 9\n",
      "AIC:  -26.753041624066675\n",
      "BIC:  -22.49995473041295\n",
      "\n",
      "Order = 10\n",
      "AIC:  -26.91609324793979\n",
      "BIC:  -22.170212831150465\n",
      "\n"
     ]
    }
   ],
   "source": [
    "perf,result,pred=combination(data1,listt)"
   ]
  },
  {
   "cell_type": "code",
   "execution_count": 19,
   "id": "43375522",
   "metadata": {},
   "outputs": [
    {
     "data": {
      "text/html": [
       "<div>\n",
       "<style scoped>\n",
       "    .dataframe tbody tr th:only-of-type {\n",
       "        vertical-align: middle;\n",
       "    }\n",
       "\n",
       "    .dataframe tbody tr th {\n",
       "        vertical-align: top;\n",
       "    }\n",
       "\n",
       "    .dataframe thead th {\n",
       "        text-align: right;\n",
       "    }\n",
       "</style>\n",
       "<table border=\"1\" class=\"dataframe\">\n",
       "  <thead>\n",
       "    <tr style=\"text-align: right;\">\n",
       "      <th></th>\n",
       "      <th>Open</th>\n",
       "      <th>High</th>\n",
       "      <th>Low</th>\n",
       "      <th>Close</th>\n",
       "    </tr>\n",
       "  </thead>\n",
       "  <tbody>\n",
       "    <tr>\n",
       "      <th>0</th>\n",
       "      <td>0.856777</td>\n",
       "      <td>0.930052</td>\n",
       "      <td>0.968437</td>\n",
       "      <td>0.947163</td>\n",
       "    </tr>\n",
       "    <tr>\n",
       "      <th>1</th>\n",
       "      <td>0.895268</td>\n",
       "      <td>0.914508</td>\n",
       "      <td>0.967385</td>\n",
       "      <td>0.899507</td>\n",
       "    </tr>\n",
       "    <tr>\n",
       "      <th>2</th>\n",
       "      <td>0.874681</td>\n",
       "      <td>0.883550</td>\n",
       "      <td>0.878485</td>\n",
       "      <td>0.802175</td>\n",
       "    </tr>\n",
       "    <tr>\n",
       "      <th>3</th>\n",
       "      <td>0.789003</td>\n",
       "      <td>0.819690</td>\n",
       "      <td>0.852183</td>\n",
       "      <td>0.790798</td>\n",
       "    </tr>\n",
       "    <tr>\n",
       "      <th>4</th>\n",
       "      <td>0.797059</td>\n",
       "      <td>0.849611</td>\n",
       "      <td>0.889795</td>\n",
       "      <td>0.848565</td>\n",
       "    </tr>\n",
       "    <tr>\n",
       "      <th>...</th>\n",
       "      <td>...</td>\n",
       "      <td>...</td>\n",
       "      <td>...</td>\n",
       "      <td>...</td>\n",
       "    </tr>\n",
       "    <tr>\n",
       "      <th>117</th>\n",
       "      <td>0.802813</td>\n",
       "      <td>0.811917</td>\n",
       "      <td>0.873224</td>\n",
       "      <td>0.792568</td>\n",
       "    </tr>\n",
       "    <tr>\n",
       "      <th>118</th>\n",
       "      <td>0.746803</td>\n",
       "      <td>0.765285</td>\n",
       "      <td>0.811941</td>\n",
       "      <td>0.744028</td>\n",
       "    </tr>\n",
       "    <tr>\n",
       "      <th>119</th>\n",
       "      <td>0.720077</td>\n",
       "      <td>0.750000</td>\n",
       "      <td>0.806550</td>\n",
       "      <td>0.746303</td>\n",
       "    </tr>\n",
       "    <tr>\n",
       "      <th>120</th>\n",
       "      <td>0.762149</td>\n",
       "      <td>0.823446</td>\n",
       "      <td>0.836007</td>\n",
       "      <td>0.829858</td>\n",
       "    </tr>\n",
       "    <tr>\n",
       "      <th>121</th>\n",
       "      <td>0.847571</td>\n",
       "      <td>0.872151</td>\n",
       "      <td>0.929642</td>\n",
       "      <td>0.882316</td>\n",
       "    </tr>\n",
       "  </tbody>\n",
       "</table>\n",
       "<p>122 rows × 4 columns</p>\n",
       "</div>"
      ],
      "text/plain": [
       "         Open      High       Low     Close\n",
       "0    0.856777  0.930052  0.968437  0.947163\n",
       "1    0.895268  0.914508  0.967385  0.899507\n",
       "2    0.874681  0.883550  0.878485  0.802175\n",
       "3    0.789003  0.819690  0.852183  0.790798\n",
       "4    0.797059  0.849611  0.889795  0.848565\n",
       "..        ...       ...       ...       ...\n",
       "117  0.802813  0.811917  0.873224  0.792568\n",
       "118  0.746803  0.765285  0.811941  0.744028\n",
       "119  0.720077  0.750000  0.806550  0.746303\n",
       "120  0.762149  0.823446  0.836007  0.829858\n",
       "121  0.847571  0.872151  0.929642  0.882316\n",
       "\n",
       "[122 rows x 4 columns]"
      ]
     },
     "execution_count": 19,
     "metadata": {},
     "output_type": "execute_result"
    }
   ],
   "source": [
    "data1"
   ]
  },
  {
   "cell_type": "code",
   "execution_count": 20,
   "id": "1ec452de",
   "metadata": {},
   "outputs": [
    {
     "data": {
      "text/html": [
       "<div>\n",
       "<style scoped>\n",
       "    .dataframe tbody tr th:only-of-type {\n",
       "        vertical-align: middle;\n",
       "    }\n",
       "\n",
       "    .dataframe tbody tr th {\n",
       "        vertical-align: top;\n",
       "    }\n",
       "\n",
       "    .dataframe thead th {\n",
       "        text-align: right;\n",
       "    }\n",
       "</style>\n",
       "<table border=\"1\" class=\"dataframe\">\n",
       "  <thead>\n",
       "    <tr style=\"text-align: right;\">\n",
       "      <th></th>\n",
       "      <th>Model</th>\n",
       "      <th>RMSE</th>\n",
       "      <th>MaPe</th>\n",
       "      <th>Lag</th>\n",
       "      <th>Test</th>\n",
       "    </tr>\n",
       "  </thead>\n",
       "  <tbody>\n",
       "    <tr>\n",
       "      <th>0</th>\n",
       "      <td>[Close, High, Open, Low]</td>\n",
       "      <td>0</td>\n",
       "      <td>0.327094</td>\n",
       "      <td>1</td>\n",
       "      <td>28</td>\n",
       "    </tr>\n",
       "  </tbody>\n",
       "</table>\n",
       "</div>"
      ],
      "text/plain": [
       "                      Model  RMSE      MaPe  Lag  Test\n",
       "0  [Close, High, Open, Low]     0  0.327094    1    28"
      ]
     },
     "execution_count": 20,
     "metadata": {},
     "output_type": "execute_result"
    }
   ],
   "source": [
    "perf"
   ]
  },
  {
   "cell_type": "code",
   "execution_count": null,
   "id": "8aae9795",
   "metadata": {},
   "outputs": [],
   "source": []
  },
  {
   "cell_type": "code",
   "execution_count": null,
   "id": "8d32ea48",
   "metadata": {},
   "outputs": [],
   "source": []
  },
  {
   "cell_type": "code",
   "execution_count": null,
   "id": "0dc8fc6e",
   "metadata": {},
   "outputs": [],
   "source": []
  },
  {
   "cell_type": "code",
   "execution_count": null,
   "id": "e2f78414",
   "metadata": {},
   "outputs": [],
   "source": []
  },
  {
   "cell_type": "code",
   "execution_count": null,
   "id": "f8a43a31",
   "metadata": {},
   "outputs": [],
   "source": []
  },
  {
   "cell_type": "code",
   "execution_count": null,
   "id": "1aad2dc2",
   "metadata": {},
   "outputs": [],
   "source": []
  },
  {
   "cell_type": "code",
   "execution_count": null,
   "id": "2a3a5690",
   "metadata": {},
   "outputs": [],
   "source": []
  },
  {
   "cell_type": "code",
   "execution_count": null,
   "id": "f7513753",
   "metadata": {},
   "outputs": [],
   "source": []
  },
  {
   "cell_type": "code",
   "execution_count": null,
   "id": "fb7b9b43",
   "metadata": {},
   "outputs": [],
   "source": []
  },
  {
   "cell_type": "code",
   "execution_count": null,
   "id": "39090e5f",
   "metadata": {},
   "outputs": [],
   "source": []
  },
  {
   "cell_type": "code",
   "execution_count": null,
   "id": "be71be7e",
   "metadata": {},
   "outputs": [],
   "source": []
  },
  {
   "cell_type": "code",
   "execution_count": null,
   "id": "ef65a4df",
   "metadata": {},
   "outputs": [],
   "source": []
  },
  {
   "cell_type": "code",
   "execution_count": null,
   "id": "d1288ab6",
   "metadata": {},
   "outputs": [],
   "source": []
  },
  {
   "cell_type": "code",
   "execution_count": null,
   "id": "9b304880",
   "metadata": {},
   "outputs": [],
   "source": []
  },
  {
   "cell_type": "code",
   "execution_count": null,
   "id": "67993afc",
   "metadata": {},
   "outputs": [],
   "source": []
  },
  {
   "cell_type": "code",
   "execution_count": null,
   "id": "e736efa9",
   "metadata": {},
   "outputs": [],
   "source": []
  },
  {
   "cell_type": "code",
   "execution_count": null,
   "id": "f5589944",
   "metadata": {},
   "outputs": [],
   "source": []
  },
  {
   "cell_type": "code",
   "execution_count": null,
   "id": "1e457408",
   "metadata": {},
   "outputs": [],
   "source": []
  },
  {
   "cell_type": "code",
   "execution_count": null,
   "id": "063be3ad",
   "metadata": {},
   "outputs": [],
   "source": []
  },
  {
   "cell_type": "code",
   "execution_count": null,
   "id": "9fd6f3bc",
   "metadata": {},
   "outputs": [],
   "source": []
  },
  {
   "cell_type": "code",
   "execution_count": null,
   "id": "75b7c5d1",
   "metadata": {},
   "outputs": [],
   "source": []
  },
  {
   "cell_type": "code",
   "execution_count": null,
   "id": "65c06560",
   "metadata": {},
   "outputs": [],
   "source": []
  },
  {
   "cell_type": "code",
   "execution_count": null,
   "id": "40ab1b02",
   "metadata": {},
   "outputs": [],
   "source": []
  },
  {
   "cell_type": "code",
   "execution_count": null,
   "id": "e289c5c7",
   "metadata": {},
   "outputs": [],
   "source": []
  },
  {
   "cell_type": "code",
   "execution_count": null,
   "id": "e4d470fe",
   "metadata": {},
   "outputs": [],
   "source": []
  },
  {
   "cell_type": "code",
   "execution_count": null,
   "id": "cf801120",
   "metadata": {},
   "outputs": [],
   "source": []
  },
  {
   "cell_type": "code",
   "execution_count": null,
   "id": "1a32370e",
   "metadata": {},
   "outputs": [],
   "source": []
  }
 ],
 "metadata": {
  "kernelspec": {
   "display_name": "aidl",
   "language": "python",
   "name": "aidl"
  },
  "language_info": {
   "codemirror_mode": {
    "name": "ipython",
    "version": 3
   },
   "file_extension": ".py",
   "mimetype": "text/x-python",
   "name": "python",
   "nbconvert_exporter": "python",
   "pygments_lexer": "ipython3",
   "version": "3.9.21"
  }
 },
 "nbformat": 4,
 "nbformat_minor": 5
}
