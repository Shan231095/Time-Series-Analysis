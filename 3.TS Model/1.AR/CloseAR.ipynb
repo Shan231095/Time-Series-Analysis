{
 "cells": [
  {
   "cell_type": "code",
   "execution_count": 1,
   "id": "c94135fd",
   "metadata": {},
   "outputs": [],
   "source": [
    "import pandas as pd"
   ]
  },
  {
   "cell_type": "code",
   "execution_count": 2,
   "id": "2eda42a5",
   "metadata": {},
   "outputs": [],
   "source": [
    "#pip install scikit-learn==1.0.0\n",
    "#pip install statsmodels==0.12.2"
   ]
  },
  {
   "cell_type": "code",
   "execution_count": null,
   "id": "70f138f7",
   "metadata": {},
   "outputs": [],
   "source": []
  },
  {
   "cell_type": "code",
   "execution_count": 4,
   "id": "2796d806",
   "metadata": {},
   "outputs": [
    {
     "name": "stdout",
     "output_type": "stream",
     "text": [
      "YF.download() has changed argument auto_adjust default to True\n"
     ]
    },
    {
     "name": "stderr",
     "output_type": "stream",
     "text": [
      "[*********************100%***********************]  1 of 1 completed\n"
     ]
    }
   ],
   "source": [
    "from nsepy import get_history as gh\n",
    "import datetime as dt\n",
    "import yfinance as yf\n",
    "stock_symbol = \"RELIANCE.NS\"  #NSE stocks usually end with .NS\n",
    "#download stock data\n",
    "stk_data = yf.download(stock_symbol,start=\"2023-01-01\",end=\"2023-07-01\")"
   ]
  },
  {
   "cell_type": "code",
   "execution_count": 5,
   "id": "a876eef9",
   "metadata": {},
   "outputs": [
    {
     "data": {
      "text/html": [
       "<div>\n",
       "<style scoped>\n",
       "    .dataframe tbody tr th:only-of-type {\n",
       "        vertical-align: middle;\n",
       "    }\n",
       "\n",
       "    .dataframe tbody tr th {\n",
       "        vertical-align: top;\n",
       "    }\n",
       "\n",
       "    .dataframe thead tr th {\n",
       "        text-align: left;\n",
       "    }\n",
       "\n",
       "    .dataframe thead tr:last-of-type th {\n",
       "        text-align: right;\n",
       "    }\n",
       "</style>\n",
       "<table border=\"1\" class=\"dataframe\">\n",
       "  <thead>\n",
       "    <tr>\n",
       "      <th>Price</th>\n",
       "      <th>Close</th>\n",
       "      <th>High</th>\n",
       "      <th>Low</th>\n",
       "      <th>Open</th>\n",
       "      <th>Volume</th>\n",
       "    </tr>\n",
       "    <tr>\n",
       "      <th>Ticker</th>\n",
       "      <th>RELIANCE.NS</th>\n",
       "      <th>RELIANCE.NS</th>\n",
       "      <th>RELIANCE.NS</th>\n",
       "      <th>RELIANCE.NS</th>\n",
       "      <th>RELIANCE.NS</th>\n",
       "    </tr>\n",
       "    <tr>\n",
       "      <th>Date</th>\n",
       "      <th></th>\n",
       "      <th></th>\n",
       "      <th></th>\n",
       "      <th></th>\n",
       "      <th></th>\n",
       "    </tr>\n",
       "  </thead>\n",
       "  <tbody>\n",
       "    <tr>\n",
       "      <th>2023-01-02</th>\n",
       "      <td>1184.592896</td>\n",
       "      <td>1186.018524</td>\n",
       "      <td>1171.854325</td>\n",
       "      <td>1172.682090</td>\n",
       "      <td>5316175</td>\n",
       "    </tr>\n",
       "    <tr>\n",
       "      <th>2023-01-03</th>\n",
       "      <td>1175.924194</td>\n",
       "      <td>1183.259245</td>\n",
       "      <td>1171.670422</td>\n",
       "      <td>1179.603215</td>\n",
       "      <td>7658932</td>\n",
       "    </tr>\n",
       "    <tr>\n",
       "      <th>2023-01-04</th>\n",
       "      <td>1158.219116</td>\n",
       "      <td>1177.763846</td>\n",
       "      <td>1156.126654</td>\n",
       "      <td>1175.901284</td>\n",
       "      <td>9264891</td>\n",
       "    </tr>\n",
       "    <tr>\n",
       "      <th>2023-01-05</th>\n",
       "      <td>1156.149658</td>\n",
       "      <td>1166.427926</td>\n",
       "      <td>1151.527923</td>\n",
       "      <td>1160.495513</td>\n",
       "      <td>13637099</td>\n",
       "    </tr>\n",
       "    <tr>\n",
       "      <th>2023-01-06</th>\n",
       "      <td>1166.657715</td>\n",
       "      <td>1171.739373</td>\n",
       "      <td>1158.104068</td>\n",
       "      <td>1161.944019</td>\n",
       "      <td>6349597</td>\n",
       "    </tr>\n",
       "    <tr>\n",
       "      <th>...</th>\n",
       "      <td>...</td>\n",
       "      <td>...</td>\n",
       "      <td>...</td>\n",
       "      <td>...</td>\n",
       "      <td>...</td>\n",
       "    </tr>\n",
       "    <tr>\n",
       "      <th>2023-06-23</th>\n",
       "      <td>1156.471558</td>\n",
       "      <td>1165.048194</td>\n",
       "      <td>1155.206860</td>\n",
       "      <td>1162.978723</td>\n",
       "      <td>6628570</td>\n",
       "    </tr>\n",
       "    <tr>\n",
       "      <th>2023-06-26</th>\n",
       "      <td>1147.641968</td>\n",
       "      <td>1156.770489</td>\n",
       "      <td>1144.491840</td>\n",
       "      <td>1152.907547</td>\n",
       "      <td>12641159</td>\n",
       "    </tr>\n",
       "    <tr>\n",
       "      <th>2023-06-27</th>\n",
       "      <td>1148.055908</td>\n",
       "      <td>1154.057170</td>\n",
       "      <td>1143.549123</td>\n",
       "      <td>1148.101888</td>\n",
       "      <td>9689466</td>\n",
       "    </tr>\n",
       "    <tr>\n",
       "      <th>2023-06-28</th>\n",
       "      <td>1163.254761</td>\n",
       "      <td>1167.094712</td>\n",
       "      <td>1148.699609</td>\n",
       "      <td>1155.666819</td>\n",
       "      <td>11354006</td>\n",
       "    </tr>\n",
       "    <tr>\n",
       "      <th>2023-06-30</th>\n",
       "      <td>1172.797119</td>\n",
       "      <td>1175.740336</td>\n",
       "      <td>1165.071236</td>\n",
       "      <td>1171.026640</td>\n",
       "      <td>11151555</td>\n",
       "    </tr>\n",
       "  </tbody>\n",
       "</table>\n",
       "<p>122 rows × 5 columns</p>\n",
       "</div>"
      ],
      "text/plain": [
       "Price             Close         High          Low         Open      Volume\n",
       "Ticker      RELIANCE.NS  RELIANCE.NS  RELIANCE.NS  RELIANCE.NS RELIANCE.NS\n",
       "Date                                                                      \n",
       "2023-01-02  1184.592896  1186.018524  1171.854325  1172.682090     5316175\n",
       "2023-01-03  1175.924194  1183.259245  1171.670422  1179.603215     7658932\n",
       "2023-01-04  1158.219116  1177.763846  1156.126654  1175.901284     9264891\n",
       "2023-01-05  1156.149658  1166.427926  1151.527923  1160.495513    13637099\n",
       "2023-01-06  1166.657715  1171.739373  1158.104068  1161.944019     6349597\n",
       "...                 ...          ...          ...          ...         ...\n",
       "2023-06-23  1156.471558  1165.048194  1155.206860  1162.978723     6628570\n",
       "2023-06-26  1147.641968  1156.770489  1144.491840  1152.907547    12641159\n",
       "2023-06-27  1148.055908  1154.057170  1143.549123  1148.101888     9689466\n",
       "2023-06-28  1163.254761  1167.094712  1148.699609  1155.666819    11354006\n",
       "2023-06-30  1172.797119  1175.740336  1165.071236  1171.026640    11151555\n",
       "\n",
       "[122 rows x 5 columns]"
      ]
     },
     "execution_count": 5,
     "metadata": {},
     "output_type": "execute_result"
    }
   ],
   "source": [
    "stk_data"
   ]
  },
  {
   "cell_type": "code",
   "execution_count": null,
   "id": "c8184d81",
   "metadata": {},
   "outputs": [],
   "source": []
  },
  {
   "cell_type": "code",
   "execution_count": 6,
   "id": "24d6ee5a",
   "metadata": {},
   "outputs": [],
   "source": [
    "stk_data=stk_data[[\"Open\",\"High\",\"Low\",\"Close\"]]\n"
   ]
  },
  {
   "cell_type": "code",
   "execution_count": 7,
   "id": "75c2b995",
   "metadata": {},
   "outputs": [
    {
     "data": {
      "text/html": [
       "<div>\n",
       "<style scoped>\n",
       "    .dataframe tbody tr th:only-of-type {\n",
       "        vertical-align: middle;\n",
       "    }\n",
       "\n",
       "    .dataframe tbody tr th {\n",
       "        vertical-align: top;\n",
       "    }\n",
       "\n",
       "    .dataframe thead tr th {\n",
       "        text-align: left;\n",
       "    }\n",
       "\n",
       "    .dataframe thead tr:last-of-type th {\n",
       "        text-align: right;\n",
       "    }\n",
       "</style>\n",
       "<table border=\"1\" class=\"dataframe\">\n",
       "  <thead>\n",
       "    <tr>\n",
       "      <th>Price</th>\n",
       "      <th>Open</th>\n",
       "      <th>High</th>\n",
       "      <th>Low</th>\n",
       "      <th>Close</th>\n",
       "    </tr>\n",
       "    <tr>\n",
       "      <th>Ticker</th>\n",
       "      <th>RELIANCE.NS</th>\n",
       "      <th>RELIANCE.NS</th>\n",
       "      <th>RELIANCE.NS</th>\n",
       "      <th>RELIANCE.NS</th>\n",
       "    </tr>\n",
       "    <tr>\n",
       "      <th>Date</th>\n",
       "      <th></th>\n",
       "      <th></th>\n",
       "      <th></th>\n",
       "      <th></th>\n",
       "    </tr>\n",
       "  </thead>\n",
       "  <tbody>\n",
       "    <tr>\n",
       "      <th>2023-01-02</th>\n",
       "      <td>1172.682090</td>\n",
       "      <td>1186.018524</td>\n",
       "      <td>1171.854325</td>\n",
       "      <td>1184.592896</td>\n",
       "    </tr>\n",
       "    <tr>\n",
       "      <th>2023-01-03</th>\n",
       "      <td>1179.603215</td>\n",
       "      <td>1183.259245</td>\n",
       "      <td>1171.670422</td>\n",
       "      <td>1175.924194</td>\n",
       "    </tr>\n",
       "    <tr>\n",
       "      <th>2023-01-04</th>\n",
       "      <td>1175.901284</td>\n",
       "      <td>1177.763846</td>\n",
       "      <td>1156.126654</td>\n",
       "      <td>1158.219116</td>\n",
       "    </tr>\n",
       "    <tr>\n",
       "      <th>2023-01-05</th>\n",
       "      <td>1160.495513</td>\n",
       "      <td>1166.427926</td>\n",
       "      <td>1151.527923</td>\n",
       "      <td>1156.149658</td>\n",
       "    </tr>\n",
       "    <tr>\n",
       "      <th>2023-01-06</th>\n",
       "      <td>1161.944019</td>\n",
       "      <td>1171.739373</td>\n",
       "      <td>1158.104068</td>\n",
       "      <td>1166.657715</td>\n",
       "    </tr>\n",
       "    <tr>\n",
       "      <th>...</th>\n",
       "      <td>...</td>\n",
       "      <td>...</td>\n",
       "      <td>...</td>\n",
       "      <td>...</td>\n",
       "    </tr>\n",
       "    <tr>\n",
       "      <th>2023-06-23</th>\n",
       "      <td>1162.978723</td>\n",
       "      <td>1165.048194</td>\n",
       "      <td>1155.206860</td>\n",
       "      <td>1156.471558</td>\n",
       "    </tr>\n",
       "    <tr>\n",
       "      <th>2023-06-26</th>\n",
       "      <td>1152.907547</td>\n",
       "      <td>1156.770489</td>\n",
       "      <td>1144.491840</td>\n",
       "      <td>1147.641968</td>\n",
       "    </tr>\n",
       "    <tr>\n",
       "      <th>2023-06-27</th>\n",
       "      <td>1148.101888</td>\n",
       "      <td>1154.057170</td>\n",
       "      <td>1143.549123</td>\n",
       "      <td>1148.055908</td>\n",
       "    </tr>\n",
       "    <tr>\n",
       "      <th>2023-06-28</th>\n",
       "      <td>1155.666819</td>\n",
       "      <td>1167.094712</td>\n",
       "      <td>1148.699609</td>\n",
       "      <td>1163.254761</td>\n",
       "    </tr>\n",
       "    <tr>\n",
       "      <th>2023-06-30</th>\n",
       "      <td>1171.026640</td>\n",
       "      <td>1175.740336</td>\n",
       "      <td>1165.071236</td>\n",
       "      <td>1172.797119</td>\n",
       "    </tr>\n",
       "  </tbody>\n",
       "</table>\n",
       "<p>122 rows × 4 columns</p>\n",
       "</div>"
      ],
      "text/plain": [
       "Price              Open         High          Low        Close\n",
       "Ticker      RELIANCE.NS  RELIANCE.NS  RELIANCE.NS  RELIANCE.NS\n",
       "Date                                                          \n",
       "2023-01-02  1172.682090  1186.018524  1171.854325  1184.592896\n",
       "2023-01-03  1179.603215  1183.259245  1171.670422  1175.924194\n",
       "2023-01-04  1175.901284  1177.763846  1156.126654  1158.219116\n",
       "2023-01-05  1160.495513  1166.427926  1151.527923  1156.149658\n",
       "2023-01-06  1161.944019  1171.739373  1158.104068  1166.657715\n",
       "...                 ...          ...          ...          ...\n",
       "2023-06-23  1162.978723  1165.048194  1155.206860  1156.471558\n",
       "2023-06-26  1152.907547  1156.770489  1144.491840  1147.641968\n",
       "2023-06-27  1148.101888  1154.057170  1143.549123  1148.055908\n",
       "2023-06-28  1155.666819  1167.094712  1148.699609  1163.254761\n",
       "2023-06-30  1171.026640  1175.740336  1165.071236  1172.797119\n",
       "\n",
       "[122 rows x 4 columns]"
      ]
     },
     "execution_count": 7,
     "metadata": {},
     "output_type": "execute_result"
    }
   ],
   "source": [
    "stk_data"
   ]
  },
  {
   "cell_type": "code",
   "execution_count": 8,
   "id": "8dfa058b",
   "metadata": {},
   "outputs": [],
   "source": [
    "#time series always for univariate - single column oly\n",
    "column=\"Close\""
   ]
  },
  {
   "cell_type": "code",
   "execution_count": 38,
   "id": "e02924c0",
   "metadata": {},
   "outputs": [
    {
     "name": "stdout",
     "output_type": "stream",
     "text": [
      "Len: (122, 1)\n"
     ]
    }
   ],
   "source": [
    "#StandardScaler or Normalisation or standardisation = x-u/std dev for ML\n",
    "#MinMaxScaler - time series \n",
    "\n",
    "from sklearn.preprocessing import MinMaxScaler\n",
    "Ms = MinMaxScaler()    #used to scale your features to a specific range (default: 0 to 1).\n",
    "#stk_data[[column]]: fit(): Calculates the min and max values from that column.transform(): Uses these values to scale each value x using: formula\n",
    "#The result is a NumPy array, with all values scaled between 0 and 1..\n",
    "#Learns the scaling parameters from the data,Then applies the transformation immediately.\n",
    "data1= Ms.fit_transform(stk_data[[column]])\n",
    "print(\"Len:\",data1.shape)"
   ]
  },
  {
   "cell_type": "code",
   "execution_count": 10,
   "id": "554d7e15",
   "metadata": {},
   "outputs": [
    {
     "data": {
      "text/plain": [
       "122"
      ]
     },
     "execution_count": 10,
     "metadata": {},
     "output_type": "execute_result"
    }
   ],
   "source": [
    "len(data1)"
   ]
  },
  {
   "cell_type": "code",
   "execution_count": 11,
   "id": "3b7d1fef",
   "metadata": {},
   "outputs": [
    {
     "name": "stdout",
     "output_type": "stream",
     "text": [
      "98\n",
      "X_train length: (98, 1)\n",
      "X_test length: (24, 1)\n",
      "y_train length: (98, 1)\n",
      "y_test length: (24, 1)\n"
     ]
    }
   ],
   "source": [
    "#should split in an series or orderly manner\n",
    "# input is our output both are same\n",
    "training_size = round(len(data1 ) * 0.80)\n",
    "print(training_size)\n",
    "X_train=data1[:training_size]  #[start(empty means it takes from o) : end (takes till 1780) ]\n",
    "X_test=data1[training_size:]   #[continuity from 1781:2225 - till last]\n",
    "print(\"X_train length:\",X_train.shape)\n",
    "print(\"X_test length:\",X_test.shape)\n",
    "y_train=data1[:training_size]\n",
    "y_test=data1[training_size:]\n",
    "print(\"y_train length:\",y_train.shape)\n",
    "print(\"y_test length:\",y_test.shape)"
   ]
  },
  {
   "cell_type": "code",
   "execution_count": 12,
   "id": "ab2c10e9",
   "metadata": {},
   "outputs": [],
   "source": [
    "import warnings\n",
    "warnings.filterwarnings(\"ignore\")"
   ]
  },
  {
   "cell_type": "code",
   "execution_count": null,
   "id": "9d223e35-3ce2-4050-bafb-11c6625f0a7d",
   "metadata": {},
   "outputs": [],
   "source": [
    "#!pip install statsmodels\n",
    "#!pip install --upgrade scikit-learn\n"
   ]
  },
  {
   "cell_type": "code",
   "execution_count": null,
   "id": "e2763db1-60d1-4d62-b40c-3d7b1ba48720",
   "metadata": {},
   "outputs": [],
   "source": [
    "import sklearn\n",
    "import sklearn.metrics\n",
    "\n",
    "print(\"Scikit-learn version:\", sklearn.__version__)\n",
    "print(\"mean_squared_error location:\", sklearn.metrics.mean_squared_error.__module__)"
   ]
  },
  {
   "cell_type": "code",
   "execution_count": null,
   "id": "ad3cbb65-7f6e-4221-b1ba-3513b8eb3c9b",
   "metadata": {},
   "outputs": [],
   "source": []
  },
  {
   "cell_type": "code",
   "execution_count": 44,
   "id": "616334c0",
   "metadata": {
    "scrolled": true
   },
   "outputs": [
    {
     "name": "stdout",
     "output_type": "stream",
     "text": [
      "Lag=1,Trend=n\n",
      "RMSE-Testset: 0.0428749277489463\n",
      "maPe-Testset: 0.20437409800979092\n",
      "************\n",
      "Lag=1,Trend=t\n",
      "RMSE-Testset: 0.0076209323345491145\n",
      "maPe-Testset: 0.10202877832580248\n",
      "************\n",
      "Lag=1,Trend=c\n",
      "RMSE-Testset: 0.05947647538105164\n",
      "maPe-Testset: 0.24688733630213164\n",
      "************\n",
      "Lag=1,Trend=ct\n",
      "RMSE-Testset: 0.006097104973623286\n",
      "maPe-Testset: 0.08950074813195102\n",
      "************\n",
      "Lag=2,Trend=n\n",
      "RMSE-Testset: 0.0391391830098363\n",
      "maPe-Testset: 0.19468320972629416\n",
      "************\n",
      "Lag=2,Trend=t\n",
      "RMSE-Testset: 0.008302249862883962\n",
      "maPe-Testset: 0.1054545699710168\n",
      "************\n",
      "Lag=2,Trend=c\n",
      "RMSE-Testset: 0.060926038009923446\n",
      "maPe-Testset: 0.24965367640601308\n",
      "************\n",
      "Lag=2,Trend=ct\n",
      "RMSE-Testset: 0.006645340702679778\n",
      "maPe-Testset: 0.09038127298751197\n",
      "************\n",
      "Lag=3,Trend=n\n",
      "RMSE-Testset: 0.029822605060011883\n",
      "maPe-Testset: 0.17003116335286442\n",
      "************\n",
      "Lag=3,Trend=t\n",
      "RMSE-Testset: 0.00812130951977818\n",
      "maPe-Testset: 0.10445719807362364\n",
      "************\n",
      "Lag=3,Trend=c\n",
      "RMSE-Testset: 0.05368239435099111\n",
      "maPe-Testset: 0.23314184190856055\n",
      "************\n",
      "Lag=3,Trend=ct\n",
      "RMSE-Testset: 0.00621560311023174\n",
      "maPe-Testset: 0.089616604323744\n",
      "************\n",
      "Lag=4,Trend=n\n",
      "RMSE-Testset: 0.029552324726616813\n",
      "maPe-Testset: 0.16734923770296203\n",
      "************\n",
      "Lag=4,Trend=t\n",
      "RMSE-Testset: 0.007035586600712046\n",
      "maPe-Testset: 0.09708938538817113\n",
      "************\n",
      "Lag=4,Trend=c\n",
      "RMSE-Testset: 0.052697141584464736\n",
      "maPe-Testset: 0.22981018400831157\n",
      "************\n",
      "Lag=4,Trend=ct\n",
      "RMSE-Testset: 0.006402331791437374\n",
      "maPe-Testset: 0.0922326990396891\n",
      "************\n"
     ]
    }
   ],
   "source": [
    "import numpy as np\n",
    "from sklearn.metrics import mean_squared_error  #best suited for times series\n",
    "trends=['n','t','c','ct']  #'n' = no trend,'c' = constant only,'t' = linear trend,'ct' = constant + linear trend\n",
    "lags=[1,2,3,4]\n",
    "from statsmodels.tsa.ar_model import AutoReg #autoreg (lag)  #ML - scikit-learn, time series - statsmodels\n",
    "for i in lags:\n",
    "    #print(i)\n",
    "   \n",
    "    for td in trends:\n",
    "        \n",
    "        #print(td)\n",
    "        #trendslist.append(td)\n",
    "        model = AutoReg(X_train, lags=i,trend=td)\n",
    "        model_fit = model.fit()  #This fits the model (i.e., trains it) using the provided training data (X_train)\n",
    "        # make prediction:len(X_train) is the start of the prediction range (just after the training set).\n",
    "        #len(data1) - 1 is the end index for prediction.data1 is likely your full time series (including train + test).\n",
    "        #eg: X_train has 100 time points.data1 has 120 time points.This predicts values for time points 100 to 119 — i.e., the next 20 steps.\n",
    "        y_pred= model_fit.predict(len(X_train), len(data1)-1)\n",
    "        #print(y_pred)\n",
    "        #mse=mean_squared_error(y_test, y_pred, squared=False)\n",
    "        \n",
    "        from stockFunctions1 import rmsemape\n",
    "        print(\"Lag={},Trend={}\".format(i,td))\n",
    "        rmsemape(y_test,y_pred)\n",
    "        print(\"************\")\n",
    "               "
   ]
  },
  {
   "cell_type": "code",
   "execution_count": null,
   "id": "73a854e0",
   "metadata": {},
   "outputs": [],
   "source": [
    "len(y_pred)"
   ]
  },
  {
   "cell_type": "code",
   "execution_count": 15,
   "id": "1058851c",
   "metadata": {},
   "outputs": [
    {
     "name": "stdout",
     "output_type": "stream",
     "text": [
      "Lag=4,Trend=ct\n",
      "RMSE-Testset: 0.006402331791437374\n",
      "maPe-Testset: 0.0922326990396891\n",
      "************\n"
     ]
    }
   ],
   "source": [
    "i=4\n",
    "td='ct'\n",
    "model = AutoReg(X_train, lags=i,trend=td)\n",
    "model_fit = model.fit()\n",
    "# make prediction\n",
    "y_pred= model_fit.predict(len(X_train), len(data1)-1)\n",
    "#print(y_pred)\n",
    "from sklearn.metrics import r2_score\n",
    "mse=mean_squared_error(y_test,y_pred)\n",
    "from stockFunctions1 import rmsemape\n",
    "print(\"Lag={},Trend={}\".format(i,td))\n",
    "rmsemape(y_test,y_pred)\n",
    "print(\"************\")"
   ]
  },
  {
   "cell_type": "code",
   "execution_count": 17,
   "id": "0c99d6a9",
   "metadata": {
    "scrolled": true
   },
   "outputs": [
    {
     "data": {
      "image/png": "[encoded data removed]",
      "text/plain": [
       "<Figure size 1000x500 with 1 Axes>"
      ]
     },
     "metadata": {},
     "output_type": "display_data"
    }
   ],
   "source": [
    "from stockFunctions import graph\n",
    "graph(y_test,y_pred,\"Actual\",\"Predicted\",\"Reliance-Close-AR-Norm\",\"Days\",\"Prices\")"
   ]
  },
  {
   "cell_type": "code",
   "execution_count": 18,
   "id": "c5f9b793",
   "metadata": {},
   "outputs": [
    {
     "data": {
      "text/plain": [
       "122"
      ]
     },
     "execution_count": 18,
     "metadata": {},
     "output_type": "execute_result"
    }
   ],
   "source": [
    "len(data1)"
   ]
  },
  {
   "cell_type": "code",
   "execution_count": 19,
   "id": "e4454779",
   "metadata": {},
   "outputs": [
    {
     "data": {
      "text/plain": [
       "array([[0.80735689],\n",
       "       [0.80571411],\n",
       "       [0.67918092],\n",
       "       [0.66236924],\n",
       "       [0.64201766],\n",
       "       [0.69776288],\n",
       "       [0.70307173],\n",
       "       [0.75060103],\n",
       "       [0.75439258],\n",
       "       [0.70964554],\n",
       "       [0.71520671],\n",
       "       [0.80798904],\n",
       "       [0.88636145],\n",
       "       [0.88813106],\n",
       "       [0.95095542],\n",
       "       [0.88623462],\n",
       "       [0.8996339 ],\n",
       "       [0.91783671],\n",
       "       [0.84502614],\n",
       "       [0.79256782],\n",
       "       [0.74402788],\n",
       "       [0.74630349],\n",
       "       [0.82985791],\n",
       "       [0.88231623]])"
      ]
     },
     "execution_count": 19,
     "metadata": {},
     "output_type": "execute_result"
    }
   ],
   "source": [
    "y_test"
   ]
  },
  {
   "cell_type": "code",
   "execution_count": 20,
   "id": "627e2044",
   "metadata": {},
   "outputs": [],
   "source": [
    "from stockFunctions import conversionSingle\n",
    "aTestNormTable=conversionSingle(y_test,[column])"
   ]
  },
  {
   "cell_type": "code",
   "execution_count": 21,
   "id": "ead3201b",
   "metadata": {},
   "outputs": [
    {
     "data": {
      "text/html": [
       "<div>\n",
       "<style scoped>\n",
       "    .dataframe tbody tr th:only-of-type {\n",
       "        vertical-align: middle;\n",
       "    }\n",
       "\n",
       "    .dataframe tbody tr th {\n",
       "        vertical-align: top;\n",
       "    }\n",
       "\n",
       "    .dataframe thead th {\n",
       "        text-align: right;\n",
       "    }\n",
       "</style>\n",
       "<table border=\"1\" class=\"dataframe\">\n",
       "  <thead>\n",
       "    <tr style=\"text-align: right;\">\n",
       "      <th></th>\n",
       "      <th>Close</th>\n",
       "    </tr>\n",
       "  </thead>\n",
       "  <tbody>\n",
       "    <tr>\n",
       "      <th>0</th>\n",
       "      <td>0.807357</td>\n",
       "    </tr>\n",
       "    <tr>\n",
       "      <th>1</th>\n",
       "      <td>0.805714</td>\n",
       "    </tr>\n",
       "    <tr>\n",
       "      <th>2</th>\n",
       "      <td>0.679181</td>\n",
       "    </tr>\n",
       "    <tr>\n",
       "      <th>3</th>\n",
       "      <td>0.662369</td>\n",
       "    </tr>\n",
       "    <tr>\n",
       "      <th>4</th>\n",
       "      <td>0.642018</td>\n",
       "    </tr>\n",
       "    <tr>\n",
       "      <th>5</th>\n",
       "      <td>0.697763</td>\n",
       "    </tr>\n",
       "    <tr>\n",
       "      <th>6</th>\n",
       "      <td>0.703072</td>\n",
       "    </tr>\n",
       "    <tr>\n",
       "      <th>7</th>\n",
       "      <td>0.750601</td>\n",
       "    </tr>\n",
       "    <tr>\n",
       "      <th>8</th>\n",
       "      <td>0.754393</td>\n",
       "    </tr>\n",
       "    <tr>\n",
       "      <th>9</th>\n",
       "      <td>0.709646</td>\n",
       "    </tr>\n",
       "    <tr>\n",
       "      <th>10</th>\n",
       "      <td>0.715207</td>\n",
       "    </tr>\n",
       "    <tr>\n",
       "      <th>11</th>\n",
       "      <td>0.807989</td>\n",
       "    </tr>\n",
       "    <tr>\n",
       "      <th>12</th>\n",
       "      <td>0.886361</td>\n",
       "    </tr>\n",
       "    <tr>\n",
       "      <th>13</th>\n",
       "      <td>0.888131</td>\n",
       "    </tr>\n",
       "    <tr>\n",
       "      <th>14</th>\n",
       "      <td>0.950955</td>\n",
       "    </tr>\n",
       "    <tr>\n",
       "      <th>15</th>\n",
       "      <td>0.886235</td>\n",
       "    </tr>\n",
       "    <tr>\n",
       "      <th>16</th>\n",
       "      <td>0.899634</td>\n",
       "    </tr>\n",
       "    <tr>\n",
       "      <th>17</th>\n",
       "      <td>0.917837</td>\n",
       "    </tr>\n",
       "    <tr>\n",
       "      <th>18</th>\n",
       "      <td>0.845026</td>\n",
       "    </tr>\n",
       "    <tr>\n",
       "      <th>19</th>\n",
       "      <td>0.792568</td>\n",
       "    </tr>\n",
       "    <tr>\n",
       "      <th>20</th>\n",
       "      <td>0.744028</td>\n",
       "    </tr>\n",
       "    <tr>\n",
       "      <th>21</th>\n",
       "      <td>0.746303</td>\n",
       "    </tr>\n",
       "    <tr>\n",
       "      <th>22</th>\n",
       "      <td>0.829858</td>\n",
       "    </tr>\n",
       "    <tr>\n",
       "      <th>23</th>\n",
       "      <td>0.882316</td>\n",
       "    </tr>\n",
       "  </tbody>\n",
       "</table>\n",
       "</div>"
      ],
      "text/plain": [
       "       Close\n",
       "0   0.807357\n",
       "1   0.805714\n",
       "2   0.679181\n",
       "3   0.662369\n",
       "4   0.642018\n",
       "5   0.697763\n",
       "6   0.703072\n",
       "7   0.750601\n",
       "8   0.754393\n",
       "9   0.709646\n",
       "10  0.715207\n",
       "11  0.807989\n",
       "12  0.886361\n",
       "13  0.888131\n",
       "14  0.950955\n",
       "15  0.886235\n",
       "16  0.899634\n",
       "17  0.917837\n",
       "18  0.845026\n",
       "19  0.792568\n",
       "20  0.744028\n",
       "21  0.746303\n",
       "22  0.829858\n",
       "23  0.882316"
      ]
     },
     "execution_count": 21,
     "metadata": {},
     "output_type": "execute_result"
    }
   ],
   "source": [
    "aTestNormTable"
   ]
  },
  {
   "cell_type": "code",
   "execution_count": 22,
   "id": "59016262",
   "metadata": {},
   "outputs": [],
   "source": [
    "actual_stock_price_test_ori=Ms.inverse_transform(aTestNormTable)"
   ]
  },
  {
   "cell_type": "code",
   "execution_count": 23,
   "id": "b394a59f",
   "metadata": {},
   "outputs": [
    {
     "data": {
      "text/plain": [
       "array([[1159.16174316],\n",
       "       [1158.86291504],\n",
       "       [1135.84606934],\n",
       "       [1132.78796387],\n",
       "       [1129.0859375 ],\n",
       "       [1139.22619629],\n",
       "       [1140.19189453],\n",
       "       [1148.83764648],\n",
       "       [1149.52734375],\n",
       "       [1141.38769531],\n",
       "       [1142.39929199],\n",
       "       [1159.2767334 ],\n",
       "       [1173.53295898],\n",
       "       [1173.8548584 ],\n",
       "       [1185.28283691],\n",
       "       [1173.5098877 ],\n",
       "       [1175.94726562],\n",
       "       [1179.25842285],\n",
       "       [1166.01391602],\n",
       "       [1156.47155762],\n",
       "       [1147.64196777],\n",
       "       [1148.0559082 ],\n",
       "       [1163.25476074],\n",
       "       [1172.79711914]])"
      ]
     },
     "execution_count": 23,
     "metadata": {},
     "output_type": "execute_result"
    }
   ],
   "source": [
    "actual_stock_price_test_ori"
   ]
  },
  {
   "cell_type": "code",
   "execution_count": 24,
   "id": "ca8dfb08",
   "metadata": {},
   "outputs": [],
   "source": [
    "actual_stock_price_test_oriA=conversionSingle(actual_stock_price_test_ori,[column])"
   ]
  },
  {
   "cell_type": "code",
   "execution_count": 25,
   "id": "ffa4bafe",
   "metadata": {},
   "outputs": [
    {
     "data": {
      "text/html": [
       "<div>\n",
       "<style scoped>\n",
       "    .dataframe tbody tr th:only-of-type {\n",
       "        vertical-align: middle;\n",
       "    }\n",
       "\n",
       "    .dataframe tbody tr th {\n",
       "        vertical-align: top;\n",
       "    }\n",
       "\n",
       "    .dataframe thead th {\n",
       "        text-align: right;\n",
       "    }\n",
       "</style>\n",
       "<table border=\"1\" class=\"dataframe\">\n",
       "  <thead>\n",
       "    <tr style=\"text-align: right;\">\n",
       "      <th></th>\n",
       "      <th>Close</th>\n",
       "    </tr>\n",
       "  </thead>\n",
       "  <tbody>\n",
       "    <tr>\n",
       "      <th>0</th>\n",
       "      <td>1159.161743</td>\n",
       "    </tr>\n",
       "    <tr>\n",
       "      <th>1</th>\n",
       "      <td>1158.862915</td>\n",
       "    </tr>\n",
       "    <tr>\n",
       "      <th>2</th>\n",
       "      <td>1135.846069</td>\n",
       "    </tr>\n",
       "    <tr>\n",
       "      <th>3</th>\n",
       "      <td>1132.787964</td>\n",
       "    </tr>\n",
       "    <tr>\n",
       "      <th>4</th>\n",
       "      <td>1129.085938</td>\n",
       "    </tr>\n",
       "    <tr>\n",
       "      <th>5</th>\n",
       "      <td>1139.226196</td>\n",
       "    </tr>\n",
       "    <tr>\n",
       "      <th>6</th>\n",
       "      <td>1140.191895</td>\n",
       "    </tr>\n",
       "    <tr>\n",
       "      <th>7</th>\n",
       "      <td>1148.837646</td>\n",
       "    </tr>\n",
       "    <tr>\n",
       "      <th>8</th>\n",
       "      <td>1149.527344</td>\n",
       "    </tr>\n",
       "    <tr>\n",
       "      <th>9</th>\n",
       "      <td>1141.387695</td>\n",
       "    </tr>\n",
       "    <tr>\n",
       "      <th>10</th>\n",
       "      <td>1142.399292</td>\n",
       "    </tr>\n",
       "    <tr>\n",
       "      <th>11</th>\n",
       "      <td>1159.276733</td>\n",
       "    </tr>\n",
       "    <tr>\n",
       "      <th>12</th>\n",
       "      <td>1173.532959</td>\n",
       "    </tr>\n",
       "    <tr>\n",
       "      <th>13</th>\n",
       "      <td>1173.854858</td>\n",
       "    </tr>\n",
       "    <tr>\n",
       "      <th>14</th>\n",
       "      <td>1185.282837</td>\n",
       "    </tr>\n",
       "    <tr>\n",
       "      <th>15</th>\n",
       "      <td>1173.509888</td>\n",
       "    </tr>\n",
       "    <tr>\n",
       "      <th>16</th>\n",
       "      <td>1175.947266</td>\n",
       "    </tr>\n",
       "    <tr>\n",
       "      <th>17</th>\n",
       "      <td>1179.258423</td>\n",
       "    </tr>\n",
       "    <tr>\n",
       "      <th>18</th>\n",
       "      <td>1166.013916</td>\n",
       "    </tr>\n",
       "    <tr>\n",
       "      <th>19</th>\n",
       "      <td>1156.471558</td>\n",
       "    </tr>\n",
       "    <tr>\n",
       "      <th>20</th>\n",
       "      <td>1147.641968</td>\n",
       "    </tr>\n",
       "    <tr>\n",
       "      <th>21</th>\n",
       "      <td>1148.055908</td>\n",
       "    </tr>\n",
       "    <tr>\n",
       "      <th>22</th>\n",
       "      <td>1163.254761</td>\n",
       "    </tr>\n",
       "    <tr>\n",
       "      <th>23</th>\n",
       "      <td>1172.797119</td>\n",
       "    </tr>\n",
       "  </tbody>\n",
       "</table>\n",
       "</div>"
      ],
      "text/plain": [
       "          Close\n",
       "0   1159.161743\n",
       "1   1158.862915\n",
       "2   1135.846069\n",
       "3   1132.787964\n",
       "4   1129.085938\n",
       "5   1139.226196\n",
       "6   1140.191895\n",
       "7   1148.837646\n",
       "8   1149.527344\n",
       "9   1141.387695\n",
       "10  1142.399292\n",
       "11  1159.276733\n",
       "12  1173.532959\n",
       "13  1173.854858\n",
       "14  1185.282837\n",
       "15  1173.509888\n",
       "16  1175.947266\n",
       "17  1179.258423\n",
       "18  1166.013916\n",
       "19  1156.471558\n",
       "20  1147.641968\n",
       "21  1148.055908\n",
       "22  1163.254761\n",
       "23  1172.797119"
      ]
     },
     "execution_count": 25,
     "metadata": {},
     "output_type": "execute_result"
    }
   ],
   "source": [
    "actual_stock_price_test_oriA"
   ]
  },
  {
   "cell_type": "code",
   "execution_count": null,
   "id": "9ae752b1",
   "metadata": {},
   "outputs": [],
   "source": []
  },
  {
   "cell_type": "code",
   "execution_count": null,
   "id": "b2ad40e7",
   "metadata": {},
   "outputs": [],
   "source": []
  },
  {
   "cell_type": "code",
   "execution_count": 40,
   "id": "f775803e",
   "metadata": {},
   "outputs": [],
   "source": [
    "#inverse transform for y_test\n",
    "from stockFunctions import conversionSingle\n",
    "aTestNormTable=conversionSingle(y_test,[column])\n",
    "actual_stock_price_test_ori=Ms.inverse_transform(aTestNormTable)\n",
    "actual_stock_price_test_oriA=conversionSingle(actual_stock_price_test_ori,[column])"
   ]
  },
  {
   "cell_type": "code",
   "execution_count": 41,
   "id": "6374db28",
   "metadata": {},
   "outputs": [],
   "source": [
    "#inverse transform for y_pred\n",
    "from stockFunctions import conversionSingle\n",
    "pTestNormTable=conversionSingle(y_pred,[column])\n",
    "predicted_stock_price_test_ori=Ms.inverse_transform(pTestNormTable)\n",
    "predicted_stock_price_test_oriP=conversionSingle(predicted_stock_price_test_ori,[column])"
   ]
  },
  {
   "cell_type": "code",
   "execution_count": 31,
   "id": "e2881d33",
   "metadata": {},
   "outputs": [
    {
     "data": {
      "image/png": "[encoded data removed]",
      "text/plain": [
       "<Figure size 1000x500 with 1 Axes>"
      ]
     },
     "metadata": {},
     "output_type": "display_data"
    }
   ],
   "source": [
    "from stockFunctions import graph\n",
    "graph(actual_stock_price_test_oriA,predicted_stock_price_test_oriP,\"Actual\",\"Predicted\",\"Reliance-Close-AR-Ori\",\"Days\",\"Prices\")"
   ]
  },
  {
   "cell_type": "code",
   "execution_count": 30,
   "id": "4b72a03b",
   "metadata": {},
   "outputs": [
    {
     "name": "stdout",
     "output_type": "stream",
     "text": [
      "RMSE-Testset: 211.8463018622317\n",
      "maPe-Testset: 0.011018152538205301\n"
     ]
    }
   ],
   "source": [
    "from stockFunctions1 import rmsemape\n",
    "rmsemape(actual_stock_price_test_oriA,predicted_stock_price_test_oriP)"
   ]
  },
  {
   "cell_type": "code",
   "execution_count": 32,
   "id": "e9e5ff09",
   "metadata": {},
   "outputs": [],
   "source": [
    "forecast=model_fit.predict(len(data1), len(data1)+3)"
   ]
  },
  {
   "cell_type": "code",
   "execution_count": 33,
   "id": "b4bb25ca",
   "metadata": {},
   "outputs": [
    {
     "data": {
      "text/plain": [
       "array([0.90052094, 0.9074027 , 0.91434611, 0.92134806])"
      ]
     },
     "execution_count": 33,
     "metadata": {},
     "output_type": "execute_result"
    }
   ],
   "source": [
    "forecast"
   ]
  },
  {
   "cell_type": "code",
   "execution_count": 39,
   "id": "6c8d1126",
   "metadata": {},
   "outputs": [],
   "source": [
    "#inverse transform for forecast\n",
    "from stockFunctions1 import conversionSingle\n",
    "fTestNormTable=conversionSingle(forecast,[\"Closefore\"])\n",
    "forecast_stock_price_test_ori=Ms.inverse_transform(fTestNormTable)\n",
    "forecast_stock_price_test_oriF=conversionSingle(forecast_stock_price_test_ori,[\"Closefore\"])"
   ]
  },
  {
   "cell_type": "code",
   "execution_count": 35,
   "id": "e89d82d4",
   "metadata": {},
   "outputs": [
    {
     "data": {
      "text/html": [
       "<div>\n",
       "<style scoped>\n",
       "    .dataframe tbody tr th:only-of-type {\n",
       "        vertical-align: middle;\n",
       "    }\n",
       "\n",
       "    .dataframe tbody tr th {\n",
       "        vertical-align: top;\n",
       "    }\n",
       "\n",
       "    .dataframe thead th {\n",
       "        text-align: right;\n",
       "    }\n",
       "</style>\n",
       "<table border=\"1\" class=\"dataframe\">\n",
       "  <thead>\n",
       "    <tr style=\"text-align: right;\">\n",
       "      <th></th>\n",
       "      <th>Closefore</th>\n",
       "    </tr>\n",
       "  </thead>\n",
       "  <tbody>\n",
       "    <tr>\n",
       "      <th>0</th>\n",
       "      <td>1176.108622</td>\n",
       "    </tr>\n",
       "    <tr>\n",
       "      <th>1</th>\n",
       "      <td>1177.36044</td>\n",
       "    </tr>\n",
       "    <tr>\n",
       "      <th>2</th>\n",
       "      <td>1178.623471</td>\n",
       "    </tr>\n",
       "    <tr>\n",
       "      <th>3</th>\n",
       "      <td>1179.89715</td>\n",
       "    </tr>\n",
       "  </tbody>\n",
       "</table>\n",
       "</div>"
      ],
      "text/plain": [
       "     Closefore\n",
       "0  1176.108622\n",
       "1   1177.36044\n",
       "2  1178.623471\n",
       "3   1179.89715"
      ]
     },
     "execution_count": 35,
     "metadata": {},
     "output_type": "execute_result"
    }
   ],
   "source": [
    "forecast_stock_price_test_oriF"
   ]
  },
  {
   "cell_type": "code",
   "execution_count": 36,
   "id": "6273d5a9",
   "metadata": {},
   "outputs": [],
   "source": [
    "forecast_stock_price_test_oriF.to_csv(\"CloseAR.csv\",index=False)"
   ]
  },
  {
   "cell_type": "code",
   "execution_count": 37,
   "id": "d3b0a4c4",
   "metadata": {},
   "outputs": [
    {
     "data": {
      "text/plain": [
       "[<matplotlib.lines.Line2D at 0x1b75f83c340>]"
      ]
     },
     "execution_count": 37,
     "metadata": {},
     "output_type": "execute_result"
    },
    {
     "data": {
      "image/png": "[encoded data removed]",
      "text/plain": [
       "<Figure size 1000x500 with 1 Axes>"
      ]
     },
     "metadata": {},
     "output_type": "display_data"
    }
   ],
   "source": [
    "import matplotlib.pyplot as plt\n",
    "plt.figure(figsize=(10,5))\n",
    "plt.plot(actual_stock_price_test_oriA[116:145], color = 'blue', label=\"Actual\")\n",
    "plt.plot(forecast_stock_price_test_oriF, color = 'red', label =\"Predicted\")"
   ]
  },
  {
   "cell_type": "code",
   "execution_count": null,
   "id": "0b417c1a",
   "metadata": {},
   "outputs": [],
   "source": []
  },
  {
   "cell_type": "code",
   "execution_count": null,
   "id": "8e69e4b3",
   "metadata": {},
   "outputs": [],
   "source": []
  },
  {
   "cell_type": "code",
   "execution_count": null,
   "id": "87404a12",
   "metadata": {},
   "outputs": [],
   "source": []
  },
  {
   "cell_type": "code",
   "execution_count": null,
   "id": "c0659d71",
   "metadata": {},
   "outputs": [],
   "source": []
  },
  {
   "cell_type": "code",
   "execution_count": null,
   "id": "11286e2e",
   "metadata": {},
   "outputs": [],
   "source": []
  },
  {
   "cell_type": "code",
   "execution_count": null,
   "id": "626de41c",
   "metadata": {},
   "outputs": [],
   "source": []
  }
 ],
 "metadata": {
  "kernelspec": {
   "display_name": "aidl",
   "language": "python",
   "name": "aidl"
  },
  "language_info": {
   "codemirror_mode": {
    "name": "ipython",
    "version": 3
   },
   "file_extension": ".py",
   "mimetype": "text/x-python",
   "name": "python",
   "nbconvert_exporter": "python",
   "pygments_lexer": "ipython3",
   "version": "3.9.21"
  }
 },
 "nbformat": 4,
 "nbformat_minor": 5
}
