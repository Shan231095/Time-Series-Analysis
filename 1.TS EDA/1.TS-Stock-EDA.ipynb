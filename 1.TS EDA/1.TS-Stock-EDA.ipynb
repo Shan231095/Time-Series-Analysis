{
 "cells": [
  {
   "cell_type": "code",
   "execution_count": 6,
   "metadata": {},
   "outputs": [],
   "source": [
    "import warnings\n",
    "warnings.filterwarnings(\"ignore\")"
   ]
  },
  {
   "cell_type": "code",
   "execution_count": 2,
   "metadata": {},
   "outputs": [],
   "source": [
    "#!pip install yfinance"
   ]
  },
  {
   "cell_type": "code",
   "execution_count": 3,
   "metadata": {},
   "outputs": [],
   "source": [
    "#!pip install nsepy"
   ]
  },
  {
   "cell_type": "code",
   "execution_count": 4,
   "metadata": {},
   "outputs": [],
   "source": [
    "from Descriptive import Descriptive"
   ]
  },
  {
   "cell_type": "code",
   "execution_count": 5,
   "metadata": {},
   "outputs": [],
   "source": [
    "obj=Descriptive() "
   ]
  },
  {
   "cell_type": "code",
   "execution_count": 7,
   "metadata": {},
   "outputs": [
    {
     "name": "stdout",
     "output_type": "stream",
     "text": [
      "YF.download() has changed argument auto_adjust default to True\n"
     ]
    },
    {
     "name": "stderr",
     "output_type": "stream",
     "text": [
      "[*********************100%***********************]  1 of 1 completed\n"
     ]
    }
   ],
   "source": [
    "from nsepy import get_history as gh\n",
    "import datetime as dt\n",
    "import yfinance as yf\n",
    "stock_symbol = \"RELIANCE.NS\"  #NSE stocks usually end with .NS\n",
    "#download stock data\n",
    "stk_data = yf.download(stock_symbol,start=\"2023-01-01\",end=\"2023-07-01\")"
   ]
  },
  {
   "cell_type": "code",
   "execution_count": 8,
   "metadata": {},
   "outputs": [
    {
     "name": "stdout",
     "output_type": "stream",
     "text": [
      "<class 'pandas.core.frame.DataFrame'>\n",
      "DatetimeIndex: 122 entries, 2023-01-02 to 2023-06-30\n",
      "Data columns (total 5 columns):\n",
      " #   Column                 Non-Null Count  Dtype  \n",
      "---  ------                 --------------  -----  \n",
      " 0   (Close, RELIANCE.NS)   122 non-null    float64\n",
      " 1   (High, RELIANCE.NS)    122 non-null    float64\n",
      " 2   (Low, RELIANCE.NS)     122 non-null    float64\n",
      " 3   (Open, RELIANCE.NS)    122 non-null    float64\n",
      " 4   (Volume, RELIANCE.NS)  122 non-null    int64  \n",
      "dtypes: float64(4), int64(1)\n",
      "memory usage: 5.7 KB\n"
     ]
    }
   ],
   "source": [
    "stk_data.info()"
   ]
  },
  {
   "cell_type": "code",
   "execution_count": 9,
   "metadata": {},
   "outputs": [
    {
     "data": {
      "text/html": [
       "<div>\n",
       "<style scoped>\n",
       "    .dataframe tbody tr th:only-of-type {\n",
       "        vertical-align: middle;\n",
       "    }\n",
       "\n",
       "    .dataframe tbody tr th {\n",
       "        vertical-align: top;\n",
       "    }\n",
       "\n",
       "    .dataframe thead tr th {\n",
       "        text-align: left;\n",
       "    }\n",
       "\n",
       "    .dataframe thead tr:last-of-type th {\n",
       "        text-align: right;\n",
       "    }\n",
       "</style>\n",
       "<table border=\"1\" class=\"dataframe\">\n",
       "  <thead>\n",
       "    <tr>\n",
       "      <th>Price</th>\n",
       "      <th>Close</th>\n",
       "      <th>High</th>\n",
       "      <th>Low</th>\n",
       "      <th>Open</th>\n",
       "      <th>Volume</th>\n",
       "    </tr>\n",
       "    <tr>\n",
       "      <th>Ticker</th>\n",
       "      <th>RELIANCE.NS</th>\n",
       "      <th>RELIANCE.NS</th>\n",
       "      <th>RELIANCE.NS</th>\n",
       "      <th>RELIANCE.NS</th>\n",
       "      <th>RELIANCE.NS</th>\n",
       "    </tr>\n",
       "    <tr>\n",
       "      <th>Date</th>\n",
       "      <th></th>\n",
       "      <th></th>\n",
       "      <th></th>\n",
       "      <th></th>\n",
       "      <th></th>\n",
       "    </tr>\n",
       "  </thead>\n",
       "  <tbody>\n",
       "    <tr>\n",
       "      <th>2023-01-02</th>\n",
       "      <td>1184.592896</td>\n",
       "      <td>1186.018524</td>\n",
       "      <td>1171.854325</td>\n",
       "      <td>1172.682090</td>\n",
       "      <td>5316175</td>\n",
       "    </tr>\n",
       "    <tr>\n",
       "      <th>2023-01-03</th>\n",
       "      <td>1175.924194</td>\n",
       "      <td>1183.259245</td>\n",
       "      <td>1171.670422</td>\n",
       "      <td>1179.603215</td>\n",
       "      <td>7658932</td>\n",
       "    </tr>\n",
       "    <tr>\n",
       "      <th>2023-01-04</th>\n",
       "      <td>1158.219116</td>\n",
       "      <td>1177.763846</td>\n",
       "      <td>1156.126654</td>\n",
       "      <td>1175.901284</td>\n",
       "      <td>9264891</td>\n",
       "    </tr>\n",
       "    <tr>\n",
       "      <th>2023-01-05</th>\n",
       "      <td>1156.149658</td>\n",
       "      <td>1166.427926</td>\n",
       "      <td>1151.527923</td>\n",
       "      <td>1160.495513</td>\n",
       "      <td>13637099</td>\n",
       "    </tr>\n",
       "    <tr>\n",
       "      <th>2023-01-06</th>\n",
       "      <td>1166.657715</td>\n",
       "      <td>1171.739373</td>\n",
       "      <td>1158.104068</td>\n",
       "      <td>1161.944019</td>\n",
       "      <td>6349597</td>\n",
       "    </tr>\n",
       "    <tr>\n",
       "      <th>...</th>\n",
       "      <td>...</td>\n",
       "      <td>...</td>\n",
       "      <td>...</td>\n",
       "      <td>...</td>\n",
       "      <td>...</td>\n",
       "    </tr>\n",
       "    <tr>\n",
       "      <th>2023-06-23</th>\n",
       "      <td>1156.471558</td>\n",
       "      <td>1165.048194</td>\n",
       "      <td>1155.206860</td>\n",
       "      <td>1162.978723</td>\n",
       "      <td>6628570</td>\n",
       "    </tr>\n",
       "    <tr>\n",
       "      <th>2023-06-26</th>\n",
       "      <td>1147.641968</td>\n",
       "      <td>1156.770489</td>\n",
       "      <td>1144.491840</td>\n",
       "      <td>1152.907547</td>\n",
       "      <td>12641159</td>\n",
       "    </tr>\n",
       "    <tr>\n",
       "      <th>2023-06-27</th>\n",
       "      <td>1148.055908</td>\n",
       "      <td>1154.057170</td>\n",
       "      <td>1143.549123</td>\n",
       "      <td>1148.101888</td>\n",
       "      <td>9689466</td>\n",
       "    </tr>\n",
       "    <tr>\n",
       "      <th>2023-06-28</th>\n",
       "      <td>1163.254761</td>\n",
       "      <td>1167.094712</td>\n",
       "      <td>1148.699609</td>\n",
       "      <td>1155.666819</td>\n",
       "      <td>11354006</td>\n",
       "    </tr>\n",
       "    <tr>\n",
       "      <th>2023-06-30</th>\n",
       "      <td>1172.797119</td>\n",
       "      <td>1175.740336</td>\n",
       "      <td>1165.071236</td>\n",
       "      <td>1171.026640</td>\n",
       "      <td>11151555</td>\n",
       "    </tr>\n",
       "  </tbody>\n",
       "</table>\n",
       "<p>122 rows × 5 columns</p>\n",
       "</div>"
      ],
      "text/plain": [
       "Price             Close         High          Low         Open      Volume\n",
       "Ticker      RELIANCE.NS  RELIANCE.NS  RELIANCE.NS  RELIANCE.NS RELIANCE.NS\n",
       "Date                                                                      \n",
       "2023-01-02  1184.592896  1186.018524  1171.854325  1172.682090     5316175\n",
       "2023-01-03  1175.924194  1183.259245  1171.670422  1179.603215     7658932\n",
       "2023-01-04  1158.219116  1177.763846  1156.126654  1175.901284     9264891\n",
       "2023-01-05  1156.149658  1166.427926  1151.527923  1160.495513    13637099\n",
       "2023-01-06  1166.657715  1171.739373  1158.104068  1161.944019     6349597\n",
       "...                 ...          ...          ...          ...         ...\n",
       "2023-06-23  1156.471558  1165.048194  1155.206860  1162.978723     6628570\n",
       "2023-06-26  1147.641968  1156.770489  1144.491840  1152.907547    12641159\n",
       "2023-06-27  1148.055908  1154.057170  1143.549123  1148.101888     9689466\n",
       "2023-06-28  1163.254761  1167.094712  1148.699609  1155.666819    11354006\n",
       "2023-06-30  1172.797119  1175.740336  1165.071236  1171.026640    11151555\n",
       "\n",
       "[122 rows x 5 columns]"
      ]
     },
     "execution_count": 9,
     "metadata": {},
     "output_type": "execute_result"
    }
   ],
   "source": [
    "stk_data"
   ]
  },
  {
   "cell_type": "code",
   "execution_count": 10,
   "metadata": {},
   "outputs": [],
   "source": [
    "low=stk_data[\"Low\"]"
   ]
  },
  {
   "cell_type": "code",
   "execution_count": 11,
   "metadata": {},
   "outputs": [
    {
     "name": "stdout",
     "output_type": "stream",
     "text": [
      "The Quantitative Data: [('Close', 'RELIANCE.NS'), ('High', 'RELIANCE.NS'), ('Low', 'RELIANCE.NS'), ('Open', 'RELIANCE.NS'), ('Volume', 'RELIANCE.NS')]\n",
      "The Qualtitative Data []\n"
     ]
    }
   ],
   "source": [
    "dataset=stk_data\n",
    "quan,qual=obj.segreQuanQual(dataset)"
   ]
  },
  {
   "cell_type": "code",
   "execution_count": 12,
   "metadata": {},
   "outputs": [],
   "source": [
    "des_data=obj.descriptive_Analysis(dataset,quan)"
   ]
  },
  {
   "cell_type": "code",
   "execution_count": 13,
   "metadata": {},
   "outputs": [
    {
     "data": {
      "text/html": [
       "<div>\n",
       "<style scoped>\n",
       "    .dataframe tbody tr th:only-of-type {\n",
       "        vertical-align: middle;\n",
       "    }\n",
       "\n",
       "    .dataframe tbody tr th {\n",
       "        vertical-align: top;\n",
       "    }\n",
       "\n",
       "    .dataframe thead th {\n",
       "        text-align: right;\n",
       "    }\n",
       "</style>\n",
       "<table border=\"1\" class=\"dataframe\">\n",
       "  <thead>\n",
       "    <tr style=\"text-align: right;\">\n",
       "      <th></th>\n",
       "      <th>(Close, RELIANCE.NS)</th>\n",
       "      <th>(High, RELIANCE.NS)</th>\n",
       "      <th>(Low, RELIANCE.NS)</th>\n",
       "      <th>(Open, RELIANCE.NS)</th>\n",
       "      <th>(Volume, RELIANCE.NS)</th>\n",
       "    </tr>\n",
       "  </thead>\n",
       "  <tbody>\n",
       "    <tr>\n",
       "      <th>Null_count</th>\n",
       "      <td>0</td>\n",
       "      <td>0</td>\n",
       "      <td>0</td>\n",
       "      <td>0</td>\n",
       "      <td>0</td>\n",
       "    </tr>\n",
       "    <tr>\n",
       "      <th>NonNull_count</th>\n",
       "      <td>122</td>\n",
       "      <td>122</td>\n",
       "      <td>122</td>\n",
       "      <td>122</td>\n",
       "      <td>122</td>\n",
       "    </tr>\n",
       "    <tr>\n",
       "      <th>Total_Count</th>\n",
       "      <td>122</td>\n",
       "      <td>122</td>\n",
       "      <td>122</td>\n",
       "      <td>122</td>\n",
       "      <td>122</td>\n",
       "    </tr>\n",
       "    <tr>\n",
       "      <th>Mean</th>\n",
       "      <td>1109.662069</td>\n",
       "      <td>1118.697302</td>\n",
       "      <td>1101.402594</td>\n",
       "      <td>1111.625591</td>\n",
       "      <td>13045123.737705</td>\n",
       "    </tr>\n",
       "    <tr>\n",
       "      <th>Median</th>\n",
       "      <td>1117.577515</td>\n",
       "      <td>1124.797641</td>\n",
       "      <td>1108.977866</td>\n",
       "      <td>1117.462669</td>\n",
       "      <td>11680332.5</td>\n",
       "    </tr>\n",
       "    <tr>\n",
       "      <th>Mode</th>\n",
       "      <td>1012.300598</td>\n",
       "      <td>1020.923276</td>\n",
       "      <td>1002.528234</td>\n",
       "      <td>1018.623903</td>\n",
       "      <td>5316175</td>\n",
       "    </tr>\n",
       "    <tr>\n",
       "      <th>Std</th>\n",
       "      <td>43.300628</td>\n",
       "      <td>42.133829</td>\n",
       "      <td>43.793821</td>\n",
       "      <td>42.694337</td>\n",
       "      <td>5569096.501439</td>\n",
       "    </tr>\n",
       "    <tr>\n",
       "      <th>Min</th>\n",
       "      <td>1012.300598</td>\n",
       "      <td>1020.923276</td>\n",
       "      <td>1002.528234</td>\n",
       "      <td>1018.623903</td>\n",
       "      <td>5316175.0</td>\n",
       "    </tr>\n",
       "    <tr>\n",
       "      <th>Q1:25%</th>\n",
       "      <td>1077.056732</td>\n",
       "      <td>1085.38635</td>\n",
       "      <td>1067.836227</td>\n",
       "      <td>1080.264433</td>\n",
       "      <td>9243317.25</td>\n",
       "    </tr>\n",
       "    <tr>\n",
       "      <th>Q2:50%</th>\n",
       "      <td>1117.577515</td>\n",
       "      <td>1124.797641</td>\n",
       "      <td>1108.977866</td>\n",
       "      <td>1117.462669</td>\n",
       "      <td>11680332.5</td>\n",
       "    </tr>\n",
       "    <tr>\n",
       "      <th>Q3:75%</th>\n",
       "      <td>1141.197998</td>\n",
       "      <td>1149.67117</td>\n",
       "      <td>1133.391462</td>\n",
       "      <td>1144.71031</td>\n",
       "      <td>15457766.25</td>\n",
       "    </tr>\n",
       "    <tr>\n",
       "      <th>Q4:100%</th>\n",
       "      <td>1194.204224</td>\n",
       "      <td>1198.435125</td>\n",
       "      <td>1177.372912</td>\n",
       "      <td>1198.435125</td>\n",
       "      <td>34014213.0</td>\n",
       "    </tr>\n",
       "    <tr>\n",
       "      <th>IQR</th>\n",
       "      <td>64.141266</td>\n",
       "      <td>64.28482</td>\n",
       "      <td>65.555235</td>\n",
       "      <td>64.445877</td>\n",
       "      <td>6214449.0</td>\n",
       "    </tr>\n",
       "    <tr>\n",
       "      <th>1.5Rule</th>\n",
       "      <td>96.211899</td>\n",
       "      <td>96.42723</td>\n",
       "      <td>98.332853</td>\n",
       "      <td>96.668815</td>\n",
       "      <td>9321673.5</td>\n",
       "    </tr>\n",
       "    <tr>\n",
       "      <th>Lesser</th>\n",
       "      <td>980.844833</td>\n",
       "      <td>988.95912</td>\n",
       "      <td>969.503374</td>\n",
       "      <td>983.595617</td>\n",
       "      <td>-78356.25</td>\n",
       "    </tr>\n",
       "    <tr>\n",
       "      <th>Greater</th>\n",
       "      <td>1237.409897</td>\n",
       "      <td>1246.0984</td>\n",
       "      <td>1231.724314</td>\n",
       "      <td>1241.379125</td>\n",
       "      <td>24779439.75</td>\n",
       "    </tr>\n",
       "  </tbody>\n",
       "</table>\n",
       "</div>"
      ],
      "text/plain": [
       "              (Close, RELIANCE.NS) (High, RELIANCE.NS) (Low, RELIANCE.NS)  \\\n",
       "Null_count                       0                   0                  0   \n",
       "NonNull_count                  122                 122                122   \n",
       "Total_Count                    122                 122                122   \n",
       "Mean                   1109.662069         1118.697302        1101.402594   \n",
       "Median                 1117.577515         1124.797641        1108.977866   \n",
       "Mode                   1012.300598         1020.923276        1002.528234   \n",
       "Std                      43.300628           42.133829          43.793821   \n",
       "Min                    1012.300598         1020.923276        1002.528234   \n",
       "Q1:25%                 1077.056732          1085.38635        1067.836227   \n",
       "Q2:50%                 1117.577515         1124.797641        1108.977866   \n",
       "Q3:75%                 1141.197998          1149.67117        1133.391462   \n",
       "Q4:100%                1194.204224         1198.435125        1177.372912   \n",
       "IQR                      64.141266            64.28482          65.555235   \n",
       "1.5Rule                  96.211899            96.42723          98.332853   \n",
       "Lesser                  980.844833           988.95912         969.503374   \n",
       "Greater                1237.409897           1246.0984        1231.724314   \n",
       "\n",
       "              (Open, RELIANCE.NS) (Volume, RELIANCE.NS)  \n",
       "Null_count                      0                     0  \n",
       "NonNull_count                 122                   122  \n",
       "Total_Count                   122                   122  \n",
       "Mean                  1111.625591       13045123.737705  \n",
       "Median                1117.462669            11680332.5  \n",
       "Mode                  1018.623903               5316175  \n",
       "Std                     42.694337        5569096.501439  \n",
       "Min                   1018.623903             5316175.0  \n",
       "Q1:25%                1080.264433            9243317.25  \n",
       "Q2:50%                1117.462669            11680332.5  \n",
       "Q3:75%                 1144.71031           15457766.25  \n",
       "Q4:100%               1198.435125            34014213.0  \n",
       "IQR                     64.445877             6214449.0  \n",
       "1.5Rule                 96.668815             9321673.5  \n",
       "Lesser                 983.595617             -78356.25  \n",
       "Greater               1241.379125           24779439.75  "
      ]
     },
     "execution_count": 13,
     "metadata": {},
     "output_type": "execute_result"
    }
   ],
   "source": [
    "des_data"
   ]
  },
  {
   "cell_type": "code",
   "execution_count": 16,
   "metadata": {},
   "outputs": [
    {
     "data": {
      "text/plain": [
       "Index([ ('Close', 'RELIANCE.NS'),   ('High', 'RELIANCE.NS'),\n",
       "          ('Low', 'RELIANCE.NS'),   ('Open', 'RELIANCE.NS'),\n",
       "       ('Volume', 'RELIANCE.NS')],\n",
       "      dtype='object')"
      ]
     },
     "execution_count": 16,
     "metadata": {},
     "output_type": "execute_result"
    }
   ],
   "source": [
    "des_data.columns"
   ]
  },
  {
   "cell_type": "code",
   "execution_count": 18,
   "metadata": {},
   "outputs": [
    {
     "data": {
      "text/plain": [
       "Null_count                 0\n",
       "NonNull_count            122\n",
       "Total_Count              122\n",
       "Mean             1101.402594\n",
       "Median           1108.977866\n",
       "Mode             1002.528234\n",
       "Std                43.793821\n",
       "Min              1002.528234\n",
       "Q1:25%           1067.836227\n",
       "Q2:50%           1108.977866\n",
       "Q3:75%           1133.391462\n",
       "Q4:100%          1177.372912\n",
       "IQR                65.555235\n",
       "1.5Rule            98.332853\n",
       "Lesser            969.503374\n",
       "Greater          1231.724314\n",
       "Name: (Low, RELIANCE.NS), dtype: object"
      ]
     },
     "execution_count": 18,
     "metadata": {},
     "output_type": "execute_result"
    }
   ],
   "source": [
    "des_data[('Low', 'RELIANCE.NS')]"
   ]
  },
  {
   "cell_type": "code",
   "execution_count": 19,
   "metadata": {},
   "outputs": [
    {
     "data": {
      "text/plain": [
       "Null_count                 0\n",
       "NonNull_count            122\n",
       "Total_Count              122\n",
       "Mean             1118.697302\n",
       "Median           1124.797641\n",
       "Mode             1020.923276\n",
       "Std                42.133829\n",
       "Min              1020.923276\n",
       "Q1:25%            1085.38635\n",
       "Q2:50%           1124.797641\n",
       "Q3:75%            1149.67117\n",
       "Q4:100%          1198.435125\n",
       "IQR                 64.28482\n",
       "1.5Rule             96.42723\n",
       "Lesser             988.95912\n",
       "Greater            1246.0984\n",
       "Name: (High, RELIANCE.NS), dtype: object"
      ]
     },
     "execution_count": 19,
     "metadata": {},
     "output_type": "execute_result"
    }
   ],
   "source": [
    "des_data[('High', 'RELIANCE.NS')]"
   ]
  },
  {
   "cell_type": "code",
   "execution_count": 20,
   "metadata": {},
   "outputs": [],
   "source": [
    "import numpy as np"
   ]
  },
  {
   "cell_type": "code",
   "execution_count": 21,
   "metadata": {},
   "outputs": [
    {
     "data": {
      "text/plain": [
       "1171.8350294515692"
      ]
     },
     "execution_count": 21,
     "metadata": {},
     "output_type": "execute_result"
    }
   ],
   "source": [
    "np.percentile(dataset[\"Low\"],99)"
   ]
  },
  {
   "cell_type": "code",
   "execution_count": 22,
   "metadata": {},
   "outputs": [
    {
     "data": {
      "text/plain": [
       "1154.185981866477"
      ]
     },
     "execution_count": 22,
     "metadata": {},
     "output_type": "execute_result"
    }
   ],
   "source": [
    "np.percentile(dataset[\"High\"],80)"
   ]
  },
  {
   "cell_type": "code",
   "execution_count": 23,
   "metadata": {},
   "outputs": [],
   "source": [
    "def get_pdf_probability(dataset,startrange,endrange):\n",
    "    from matplotlib import pyplot\n",
    "    from scipy.stats import norm\n",
    "    import seaborn as sns\n",
    "    ax = sns.distplot(dataset,kde=True,kde_kws={'color':'blue'},color='Green')\n",
    "    pyplot.axvline(startrange,color='Red')\n",
    "    pyplot.axvline(endrange,color='Red')\n",
    "    # generate a sample\n",
    "    sample = dataset\n",
    "    # calculate parameters\n",
    "    sample_mean =sample.mean()\n",
    "    sample_std = sample.std()\n",
    "    print('Mean=%.3f, Standard Deviation=%.3f' % (sample_mean, sample_std))\n",
    "    # define the distribution\n",
    "    dist = norm(sample_mean, sample_std)\n",
    "    \n",
    "    # sample probabilities for a range of outcomes\n",
    "    values = [value for value in range(startrange, endrange)]\n",
    "    probabilities = [dist.pdf(value) for value in values]    \n",
    "    prob=sum(probabilities)\n",
    "    print(\"The area between range({},{}):{}\".format(startrange,endrange,sum(probabilities)))\n",
    "    return prob\n",
    "    "
   ]
  },
  {
   "cell_type": "code",
   "execution_count": 25,
   "metadata": {},
   "outputs": [
    {
     "name": "stdout",
     "output_type": "stream",
     "text": [
      "Mean=1101.403, Standard Deviation=43.794\n",
      "The area between range(1000,1100):[0.47268858]\n"
     ]
    },
    {
     "data": {
      "text/plain": [
       "array([0.47268858])"
      ]
     },
     "execution_count": 25,
     "metadata": {},
     "output_type": "execute_result"
    },
    {
     "data": {
      "image/png": "[encoded data removed]",
      "text/plain": [
       "<Figure size 640x480 with 1 Axes>"
      ]
     },
     "metadata": {},
     "output_type": "display_data"
    }
   ],
   "source": [
    "get_pdf_probability(dataset[\"Low\"],1000,1100)"
   ]
  },
  {
   "cell_type": "code",
   "execution_count": 32,
   "metadata": {},
   "outputs": [],
   "source": [
    "def stdNBgraph(dataset):\n",
    "    import seaborn as sns\n",
    "    import matplotlib.pyplot as plt\n",
    "    import numpy as np\n",
    "\n",
    "    # Calculate mean and standard deviation\n",
    "    mean = dataset.mean()\n",
    "    std = dataset.std()\n",
    "\n",
    "    # Compute z-scores (standardized values)\n",
    "    z_scores = [(x - mean) / std for x in dataset]\n",
    "\n",
    "    # Plot distribution\n",
    "    sns.histplot(z_scores, kde=True, bins=30, color='skyblue')\n",
    "    plt.title('Standard Normal Distribution (Z-Scores)')\n",
    "    plt.xlabel('Z-Score')\n",
    "    plt.ylabel('Frequency')\n",
    "    plt.grid(True)\n",
    "    plt.show()\n",
    "\n",
    "    # Return the mean of z-scores to verify it centers around 0\n",
    "    return np.mean(z_scores)\n"
   ]
  },
  {
   "cell_type": "code",
   "execution_count": 36,
   "metadata": {},
   "outputs": [
    {
     "name": "stdout",
     "output_type": "stream",
     "text": [
      "MultiIndex([( 'Close', 'RELIANCE.NS'),\n",
      "            (  'High', 'RELIANCE.NS'),\n",
      "            (   'Low', 'RELIANCE.NS'),\n",
      "            (  'Open', 'RELIANCE.NS'),\n",
      "            ('Volume', 'RELIANCE.NS')],\n",
      "           names=['Price', 'Ticker'])\n"
     ]
    }
   ],
   "source": [
    "print(dataset.columns)"
   ]
  },
  {
   "cell_type": "code",
   "execution_count": null,
   "metadata": {},
   "outputs": [],
   "source": []
  },
  {
   "cell_type": "code",
   "execution_count": 37,
   "metadata": {},
   "outputs": [
    {
     "data": {
      "image/png": "[encoded data removed]",
      "text/plain": [
       "<Figure size 640x480 with 1 Axes>"
      ]
     },
     "metadata": {},
     "output_type": "display_data"
    },
    {
     "data": {
      "text/plain": [
       "2.7482569953835844e-15"
      ]
     },
     "execution_count": 37,
     "metadata": {},
     "output_type": "execute_result"
    }
   ],
   "source": [
    "stdNBgraph(dataset[('Low', 'RELIANCE.NS')])"
   ]
  },
  {
   "cell_type": "code",
   "execution_count": 30,
   "metadata": {},
   "outputs": [],
   "source": [
    "def freqTable(columnName, dataset):\n",
    "    import pandas as pd\n",
    "    \n",
    "    value_counts = dataset[columnName].value_counts(dropna=False)\n",
    "    total = len(dataset[columnName])\n",
    "    \n",
    "    frq = pd.DataFrame({\n",
    "        \"Unique_Values\": value_counts.index,\n",
    "        \"Frequency\": value_counts.values,\n",
    "        \"Relative_Frequency (%)\": (value_counts.values / total) * 100\n",
    "    })\n",
    "    \n",
    "    frq[\"Cumulative (%)\"] = frq[\"Relative_Frequency (%)\"].cumsum()\n",
    "    return frq.reset_index(drop=True)"
   ]
  },
  {
   "cell_type": "code",
   "execution_count": 31,
   "metadata": {},
   "outputs": [
    {
     "data": {
      "text/html": [
       "<div>\n",
       "<style scoped>\n",
       "    .dataframe tbody tr th:only-of-type {\n",
       "        vertical-align: middle;\n",
       "    }\n",
       "\n",
       "    .dataframe tbody tr th {\n",
       "        vertical-align: top;\n",
       "    }\n",
       "\n",
       "    .dataframe thead th {\n",
       "        text-align: right;\n",
       "    }\n",
       "</style>\n",
       "<table border=\"1\" class=\"dataframe\">\n",
       "  <thead>\n",
       "    <tr style=\"text-align: right;\">\n",
       "      <th></th>\n",
       "      <th>Unique_Values</th>\n",
       "      <th>Frequency</th>\n",
       "      <th>Relative_Frequency (%)</th>\n",
       "      <th>Cumulative (%)</th>\n",
       "    </tr>\n",
       "  </thead>\n",
       "  <tbody>\n",
       "    <tr>\n",
       "      <th>0</th>\n",
       "      <td>(1002.5282340222402,)</td>\n",
       "      <td>1</td>\n",
       "      <td>0.819672</td>\n",
       "      <td>0.819672</td>\n",
       "    </tr>\n",
       "    <tr>\n",
       "      <th>1</th>\n",
       "      <td>(1133.5926309386032,)</td>\n",
       "      <td>1</td>\n",
       "      <td>0.819672</td>\n",
       "      <td>1.639344</td>\n",
       "    </tr>\n",
       "    <tr>\n",
       "      <th>2</th>\n",
       "      <td>(1132.2131214141684,)</td>\n",
       "      <td>1</td>\n",
       "      <td>0.819672</td>\n",
       "      <td>2.459016</td>\n",
       "    </tr>\n",
       "    <tr>\n",
       "      <th>3</th>\n",
       "      <td>(1131.7532273257953,)</td>\n",
       "      <td>1</td>\n",
       "      <td>0.819672</td>\n",
       "      <td>3.278689</td>\n",
       "    </tr>\n",
       "    <tr>\n",
       "      <th>4</th>\n",
       "      <td>(1131.4543414964407,)</td>\n",
       "      <td>1</td>\n",
       "      <td>0.819672</td>\n",
       "      <td>4.098361</td>\n",
       "    </tr>\n",
       "    <tr>\n",
       "      <th>...</th>\n",
       "      <td>...</td>\n",
       "      <td>...</td>\n",
       "      <td>...</td>\n",
       "      <td>...</td>\n",
       "    </tr>\n",
       "    <tr>\n",
       "      <th>117</th>\n",
       "      <td>(1072.475298289556,)</td>\n",
       "      <td>1</td>\n",
       "      <td>0.819672</td>\n",
       "      <td>96.721311</td>\n",
       "    </tr>\n",
       "    <tr>\n",
       "      <th>118</th>\n",
       "      <td>(1071.5325819090108,)</td>\n",
       "      <td>1</td>\n",
       "      <td>0.819672</td>\n",
       "      <td>97.540984</td>\n",
       "    </tr>\n",
       "    <tr>\n",
       "      <th>119</th>\n",
       "      <td>(1069.6700401019905,)</td>\n",
       "      <td>1</td>\n",
       "      <td>0.819672</td>\n",
       "      <td>98.360656</td>\n",
       "    </tr>\n",
       "    <tr>\n",
       "      <th>120</th>\n",
       "      <td>(1068.773277101233,)</td>\n",
       "      <td>1</td>\n",
       "      <td>0.819672</td>\n",
       "      <td>99.180328</td>\n",
       "    </tr>\n",
       "    <tr>\n",
       "      <th>121</th>\n",
       "      <td>(1177.3729116999634,)</td>\n",
       "      <td>1</td>\n",
       "      <td>0.819672</td>\n",
       "      <td>100.000000</td>\n",
       "    </tr>\n",
       "  </tbody>\n",
       "</table>\n",
       "<p>122 rows × 4 columns</p>\n",
       "</div>"
      ],
      "text/plain": [
       "             Unique_Values  Frequency  Relative_Frequency (%)  Cumulative (%)\n",
       "0    (1002.5282340222402,)          1                0.819672        0.819672\n",
       "1    (1133.5926309386032,)          1                0.819672        1.639344\n",
       "2    (1132.2131214141684,)          1                0.819672        2.459016\n",
       "3    (1131.7532273257953,)          1                0.819672        3.278689\n",
       "4    (1131.4543414964407,)          1                0.819672        4.098361\n",
       "..                     ...        ...                     ...             ...\n",
       "117   (1072.475298289556,)          1                0.819672       96.721311\n",
       "118  (1071.5325819090108,)          1                0.819672       97.540984\n",
       "119  (1069.6700401019905,)          1                0.819672       98.360656\n",
       "120   (1068.773277101233,)          1                0.819672       99.180328\n",
       "121  (1177.3729116999634,)          1                0.819672      100.000000\n",
       "\n",
       "[122 rows x 4 columns]"
      ]
     },
     "execution_count": 31,
     "metadata": {},
     "output_type": "execute_result"
    }
   ],
   "source": [
    "freqTable(\"Low\",dataset)"
   ]
  },
  {
   "cell_type": "code",
   "execution_count": 38,
   "metadata": {},
   "outputs": [
    {
     "data": {
      "text/html": [
       "<div>\n",
       "<style scoped>\n",
       "    .dataframe tbody tr th:only-of-type {\n",
       "        vertical-align: middle;\n",
       "    }\n",
       "\n",
       "    .dataframe tbody tr th {\n",
       "        vertical-align: top;\n",
       "    }\n",
       "\n",
       "    .dataframe thead th {\n",
       "        text-align: right;\n",
       "    }\n",
       "</style>\n",
       "<table border=\"1\" class=\"dataframe\">\n",
       "  <thead>\n",
       "    <tr style=\"text-align: right;\">\n",
       "      <th></th>\n",
       "      <th>Unique_Values</th>\n",
       "      <th>Frequency</th>\n",
       "      <th>Relative_Frequency (%)</th>\n",
       "      <th>Cumulative (%)</th>\n",
       "    </tr>\n",
       "  </thead>\n",
       "  <tbody>\n",
       "    <tr>\n",
       "      <th>0</th>\n",
       "      <td>(1020.9232759477475,)</td>\n",
       "      <td>1</td>\n",
       "      <td>0.819672</td>\n",
       "      <td>0.819672</td>\n",
       "    </tr>\n",
       "    <tr>\n",
       "      <th>1</th>\n",
       "      <td>(1149.6884009904004,)</td>\n",
       "      <td>1</td>\n",
       "      <td>0.819672</td>\n",
       "      <td>1.639344</td>\n",
       "    </tr>\n",
       "    <tr>\n",
       "      <th>2</th>\n",
       "      <td>(1149.5043334434397,)</td>\n",
       "      <td>1</td>\n",
       "      <td>0.819672</td>\n",
       "      <td>2.459016</td>\n",
       "    </tr>\n",
       "    <tr>\n",
       "      <th>3</th>\n",
       "      <td>(1145.5954285464745,)</td>\n",
       "      <td>1</td>\n",
       "      <td>0.819672</td>\n",
       "      <td>3.278689</td>\n",
       "    </tr>\n",
       "    <tr>\n",
       "      <th>4</th>\n",
       "      <td>(1144.7216546584948,)</td>\n",
       "      <td>1</td>\n",
       "      <td>0.819672</td>\n",
       "      <td>4.098361</td>\n",
       "    </tr>\n",
       "    <tr>\n",
       "      <th>...</th>\n",
       "      <td>...</td>\n",
       "      <td>...</td>\n",
       "      <td>...</td>\n",
       "      <td>...</td>\n",
       "    </tr>\n",
       "    <tr>\n",
       "      <th>117</th>\n",
       "      <td>(1090.7783583936548,)</td>\n",
       "      <td>1</td>\n",
       "      <td>0.819672</td>\n",
       "      <td>96.721311</td>\n",
       "    </tr>\n",
       "    <tr>\n",
       "      <th>118</th>\n",
       "      <td>(1090.2954154646166,)</td>\n",
       "      <td>1</td>\n",
       "      <td>0.819672</td>\n",
       "      <td>97.540984</td>\n",
       "    </tr>\n",
       "    <tr>\n",
       "      <th>119</th>\n",
       "      <td>(1088.8927661991409,)</td>\n",
       "      <td>1</td>\n",
       "      <td>0.819672</td>\n",
       "      <td>98.360656</td>\n",
       "    </tr>\n",
       "    <tr>\n",
       "      <th>120</th>\n",
       "      <td>(1088.5249595656444,)</td>\n",
       "      <td>1</td>\n",
       "      <td>0.819672</td>\n",
       "      <td>99.180328</td>\n",
       "    </tr>\n",
       "    <tr>\n",
       "      <th>121</th>\n",
       "      <td>(1198.4351247857478,)</td>\n",
       "      <td>1</td>\n",
       "      <td>0.819672</td>\n",
       "      <td>100.000000</td>\n",
       "    </tr>\n",
       "  </tbody>\n",
       "</table>\n",
       "<p>122 rows × 4 columns</p>\n",
       "</div>"
      ],
      "text/plain": [
       "             Unique_Values  Frequency  Relative_Frequency (%)  Cumulative (%)\n",
       "0    (1020.9232759477475,)          1                0.819672        0.819672\n",
       "1    (1149.6884009904004,)          1                0.819672        1.639344\n",
       "2    (1149.5043334434397,)          1                0.819672        2.459016\n",
       "3    (1145.5954285464745,)          1                0.819672        3.278689\n",
       "4    (1144.7216546584948,)          1                0.819672        4.098361\n",
       "..                     ...        ...                     ...             ...\n",
       "117  (1090.7783583936548,)          1                0.819672       96.721311\n",
       "118  (1090.2954154646166,)          1                0.819672       97.540984\n",
       "119  (1088.8927661991409,)          1                0.819672       98.360656\n",
       "120  (1088.5249595656444,)          1                0.819672       99.180328\n",
       "121  (1198.4351247857478,)          1                0.819672      100.000000\n",
       "\n",
       "[122 rows x 4 columns]"
      ]
     },
     "execution_count": 38,
     "metadata": {},
     "output_type": "execute_result"
    }
   ],
   "source": [
    "freqTable(\"High\",dataset)"
   ]
  },
  {
   "cell_type": "code",
   "execution_count": 40,
   "metadata": {},
   "outputs": [],
   "source": [
    "fh=freqTable(\"High\",dataset)"
   ]
  },
  {
   "cell_type": "code",
   "execution_count": 41,
   "metadata": {},
   "outputs": [
    {
     "data": {
      "text/html": [
       "<div>\n",
       "<style scoped>\n",
       "    .dataframe tbody tr th:only-of-type {\n",
       "        vertical-align: middle;\n",
       "    }\n",
       "\n",
       "    .dataframe tbody tr th {\n",
       "        vertical-align: top;\n",
       "    }\n",
       "\n",
       "    .dataframe thead th {\n",
       "        text-align: right;\n",
       "    }\n",
       "</style>\n",
       "<table border=\"1\" class=\"dataframe\">\n",
       "  <thead>\n",
       "    <tr style=\"text-align: right;\">\n",
       "      <th></th>\n",
       "      <th>Unique_Values</th>\n",
       "      <th>Frequency</th>\n",
       "      <th>Relative_Frequency (%)</th>\n",
       "      <th>Cumulative (%)</th>\n",
       "    </tr>\n",
       "  </thead>\n",
       "  <tbody>\n",
       "    <tr>\n",
       "      <th>0</th>\n",
       "      <td>(1020.9232759477475,)</td>\n",
       "      <td>1</td>\n",
       "      <td>0.819672</td>\n",
       "      <td>0.819672</td>\n",
       "    </tr>\n",
       "    <tr>\n",
       "      <th>91</th>\n",
       "      <td>(1084.8459060275125,)</td>\n",
       "      <td>1</td>\n",
       "      <td>0.819672</td>\n",
       "      <td>75.409836</td>\n",
       "    </tr>\n",
       "    <tr>\n",
       "      <th>89</th>\n",
       "      <td>(1035.6162808427193,)</td>\n",
       "      <td>1</td>\n",
       "      <td>0.819672</td>\n",
       "      <td>73.770492</td>\n",
       "    </tr>\n",
       "    <tr>\n",
       "      <th>88</th>\n",
       "      <td>(1036.55896592397,)</td>\n",
       "      <td>1</td>\n",
       "      <td>0.819672</td>\n",
       "      <td>72.950820</td>\n",
       "    </tr>\n",
       "    <tr>\n",
       "      <th>87</th>\n",
       "      <td>(1036.5589704145036,)</td>\n",
       "      <td>1</td>\n",
       "      <td>0.819672</td>\n",
       "      <td>72.131148</td>\n",
       "    </tr>\n",
       "    <tr>\n",
       "      <th>...</th>\n",
       "      <td>...</td>\n",
       "      <td>...</td>\n",
       "      <td>...</td>\n",
       "      <td>...</td>\n",
       "    </tr>\n",
       "    <tr>\n",
       "      <th>36</th>\n",
       "      <td>(1186.0185235441973,)</td>\n",
       "      <td>1</td>\n",
       "      <td>0.819672</td>\n",
       "      <td>30.327869</td>\n",
       "    </tr>\n",
       "    <tr>\n",
       "      <th>35</th>\n",
       "      <td>(1187.5822097333855,)</td>\n",
       "      <td>1</td>\n",
       "      <td>0.819672</td>\n",
       "      <td>29.508197</td>\n",
       "    </tr>\n",
       "    <tr>\n",
       "      <th>34</th>\n",
       "      <td>(1188.3179303259199,)</td>\n",
       "      <td>1</td>\n",
       "      <td>0.819672</td>\n",
       "      <td>28.688525</td>\n",
       "    </tr>\n",
       "    <tr>\n",
       "      <th>33</th>\n",
       "      <td>(1196.5956782044618,)</td>\n",
       "      <td>1</td>\n",
       "      <td>0.819672</td>\n",
       "      <td>27.868852</td>\n",
       "    </tr>\n",
       "    <tr>\n",
       "      <th>121</th>\n",
       "      <td>(1198.4351247857478,)</td>\n",
       "      <td>1</td>\n",
       "      <td>0.819672</td>\n",
       "      <td>100.000000</td>\n",
       "    </tr>\n",
       "  </tbody>\n",
       "</table>\n",
       "<p>122 rows × 4 columns</p>\n",
       "</div>"
      ],
      "text/plain": [
       "             Unique_Values  Frequency  Relative_Frequency (%)  Cumulative (%)\n",
       "0    (1020.9232759477475,)          1                0.819672        0.819672\n",
       "91   (1084.8459060275125,)          1                0.819672       75.409836\n",
       "89   (1035.6162808427193,)          1                0.819672       73.770492\n",
       "88     (1036.55896592397,)          1                0.819672       72.950820\n",
       "87   (1036.5589704145036,)          1                0.819672       72.131148\n",
       "..                     ...        ...                     ...             ...\n",
       "36   (1186.0185235441973,)          1                0.819672       30.327869\n",
       "35   (1187.5822097333855,)          1                0.819672       29.508197\n",
       "34   (1188.3179303259199,)          1                0.819672       28.688525\n",
       "33   (1196.5956782044618,)          1                0.819672       27.868852\n",
       "121  (1198.4351247857478,)          1                0.819672      100.000000\n",
       "\n",
       "[122 rows x 4 columns]"
      ]
     },
     "execution_count": 41,
     "metadata": {},
     "output_type": "execute_result"
    }
   ],
   "source": [
    "fh.sort_values(by=\"Frequency\",ascending=False)"
   ]
  },
  {
   "cell_type": "code",
   "execution_count": 44,
   "metadata": {},
   "outputs": [],
   "source": [
    "#whenever need to display freq= 2 or 3 alone \n",
    "fhs=fh[fh[\"Frequency\"]==2][\"Unique_Values\"].sort_values(ascending=False)"
   ]
  },
  {
   "cell_type": "code",
   "execution_count": 43,
   "metadata": {},
   "outputs": [
    {
     "data": {
      "text/plain": [
       "Series([], Name: Unique_Values, dtype: object)"
      ]
     },
     "execution_count": 43,
     "metadata": {},
     "output_type": "execute_result"
    }
   ],
   "source": [
    "fhs"
   ]
  },
  {
   "cell_type": "code",
   "execution_count": null,
   "metadata": {},
   "outputs": [],
   "source": []
  }
 ],
 "metadata": {
  "kernelspec": {
   "display_name": "aidl",
   "language": "python",
   "name": "aidl"
  },
  "language_info": {
   "codemirror_mode": {
    "name": "ipython",
    "version": 3
   },
   "file_extension": ".py",
   "mimetype": "text/x-python",
   "name": "python",
   "nbconvert_exporter": "python",
   "pygments_lexer": "ipython3",
   "version": "3.9.21"
  }
 },
 "nbformat": 4,
 "nbformat_minor": 4
}
